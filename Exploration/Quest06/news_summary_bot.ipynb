{
  "nbformat": 4,
  "nbformat_minor": 0,
  "metadata": {
    "colab": {
      "provenance": [],
      "gpuType": "T4"
    },
    "kernelspec": {
      "name": "python3",
      "display_name": "Python 3"
    },
    "language_info": {
      "name": "python"
    },
    "accelerator": "GPU"
  },
  "cells": [
    {
      "cell_type": "markdown",
      "source": [
        "# 데이터 준비하기"
      ],
      "metadata": {
        "id": "w6gtmU_20KD-"
      }
    },
    {
      "cell_type": "code",
      "execution_count": null,
      "metadata": {
        "colab": {
          "base_uri": "https://localhost:8080/"
        },
        "id": "8TEm2EZ4zveD",
        "outputId": "99ac39cb-1143-4df2-bb68-87839db11397"
      },
      "outputs": [
        {
          "output_type": "stream",
          "name": "stdout",
          "text": [
            "Mounted at /content/drive\n",
            "/content/drive/MyDrive/AIFFEL\n"
          ]
        }
      ],
      "source": [
        "from google.colab import drive\n",
        "drive.mount('/content/drive')\n",
        "%cd /content/drive/MyDrive/AIFFEL"
      ]
    },
    {
      "cell_type": "code",
      "source": [
        "!mkdir -p ./work/news_summarization/data"
      ],
      "metadata": {
        "id": "_HgOb0x16iD_"
      },
      "execution_count": null,
      "outputs": []
    },
    {
      "cell_type": "code",
      "source": [
        "!pip install nltk\n",
        "!pip install beautifulsoup4"
      ],
      "metadata": {
        "colab": {
          "base_uri": "https://localhost:8080/"
        },
        "id": "1We6Lafd6iM1",
        "outputId": "2e5be5d0-e04e-4514-9527-40ed8d0dd27d"
      },
      "execution_count": null,
      "outputs": [
        {
          "output_type": "stream",
          "name": "stdout",
          "text": [
            "Requirement already satisfied: nltk in /usr/local/lib/python3.12/dist-packages (3.9.1)\n",
            "Requirement already satisfied: click in /usr/local/lib/python3.12/dist-packages (from nltk) (8.3.0)\n",
            "Requirement already satisfied: joblib in /usr/local/lib/python3.12/dist-packages (from nltk) (1.5.2)\n",
            "Requirement already satisfied: regex>=2021.8.3 in /usr/local/lib/python3.12/dist-packages (from nltk) (2024.11.6)\n",
            "Requirement already satisfied: tqdm in /usr/local/lib/python3.12/dist-packages (from nltk) (4.67.1)\n",
            "Requirement already satisfied: beautifulsoup4 in /usr/local/lib/python3.12/dist-packages (4.13.5)\n",
            "Requirement already satisfied: soupsieve>1.2 in /usr/local/lib/python3.12/dist-packages (from beautifulsoup4) (2.8)\n",
            "Requirement already satisfied: typing-extensions>=4.0.0 in /usr/local/lib/python3.12/dist-packages (from beautifulsoup4) (4.15.0)\n"
          ]
        }
      ]
    },
    {
      "cell_type": "code",
      "source": [
        "!pip install lxml"
      ],
      "metadata": {
        "colab": {
          "base_uri": "https://localhost:8080/"
        },
        "id": "GBDPT0Q8TTu2",
        "outputId": "293a475e-a5f7-4f6f-ae87-38485efb0256"
      },
      "execution_count": null,
      "outputs": [
        {
          "output_type": "stream",
          "name": "stdout",
          "text": [
            "Requirement already satisfied: lxml in /usr/local/lib/python3.12/dist-packages (5.4.0)\n"
          ]
        }
      ]
    },
    {
      "cell_type": "code",
      "source": [
        "!pip install --upgrade summa\n",
        "!pip install --upgrade nltk #3.9.1"
      ],
      "metadata": {
        "colab": {
          "base_uri": "https://localhost:8080/"
        },
        "id": "dXLXC7o9lKtn",
        "outputId": "a81b0cd3-92dc-4a6a-8e17-e0d11c233274"
      },
      "execution_count": null,
      "outputs": [
        {
          "output_type": "stream",
          "name": "stdout",
          "text": [
            "Collecting summa\n",
            "  Downloading summa-1.2.0.tar.gz (54 kB)\n",
            "\u001b[?25l     \u001b[90m━━━━━━━━━━━━━━━━━━━━━━━━━━━━━━━━━━━━━━━━\u001b[0m \u001b[32m0.0/54.9 kB\u001b[0m \u001b[31m?\u001b[0m eta \u001b[36m-:--:--\u001b[0m\r\u001b[2K     \u001b[90m━━━━━━━━━━━━━━━━━━━━━━━━━━━━━━━━━━━━━━━━\u001b[0m \u001b[32m54.9/54.9 kB\u001b[0m \u001b[31m4.5 MB/s\u001b[0m eta \u001b[36m0:00:00\u001b[0m\n",
            "\u001b[?25h  Preparing metadata (setup.py) ... \u001b[?25l\u001b[?25hdone\n",
            "Requirement already satisfied: scipy>=0.19 in /usr/local/lib/python3.12/dist-packages (from summa) (1.16.2)\n",
            "Requirement already satisfied: numpy<2.6,>=1.25.2 in /usr/local/lib/python3.12/dist-packages (from scipy>=0.19->summa) (2.0.2)\n",
            "Building wheels for collected packages: summa\n",
            "  Building wheel for summa (setup.py) ... \u001b[?25l\u001b[?25hdone\n",
            "  Created wheel for summa: filename=summa-1.2.0-py3-none-any.whl size=54387 sha256=c122b69e8606e35343197961bbe34c95cf6ca033142637e29b0576104d39bfc9\n",
            "  Stored in directory: /root/.cache/pip/wheels/70/26/84/58df5a55ebde6fd802666b6ac0b86909ecd018a2702b89d13c\n",
            "Successfully built summa\n",
            "Installing collected packages: summa\n",
            "Successfully installed summa-1.2.0\n",
            "Requirement already satisfied: nltk in /usr/local/lib/python3.12/dist-packages (3.9.1)\n",
            "Collecting nltk\n",
            "  Downloading nltk-3.9.2-py3-none-any.whl.metadata (3.2 kB)\n",
            "Requirement already satisfied: click in /usr/local/lib/python3.12/dist-packages (from nltk) (8.3.0)\n",
            "Requirement already satisfied: joblib in /usr/local/lib/python3.12/dist-packages (from nltk) (1.5.2)\n",
            "Requirement already satisfied: regex>=2021.8.3 in /usr/local/lib/python3.12/dist-packages (from nltk) (2024.11.6)\n",
            "Requirement already satisfied: tqdm in /usr/local/lib/python3.12/dist-packages (from nltk) (4.67.1)\n",
            "Downloading nltk-3.9.2-py3-none-any.whl (1.5 MB)\n",
            "\u001b[2K   \u001b[90m━━━━━━━━━━━━━━━━━━━━━━━━━━━━━━━━━━━━━━━━\u001b[0m \u001b[32m1.5/1.5 MB\u001b[0m \u001b[31m45.4 MB/s\u001b[0m eta \u001b[36m0:00:00\u001b[0m\n",
            "\u001b[?25hInstalling collected packages: nltk\n",
            "  Attempting uninstall: nltk\n",
            "    Found existing installation: nltk 3.9.1\n",
            "    Uninstalling nltk-3.9.1:\n",
            "      Successfully uninstalled nltk-3.9.1\n",
            "Successfully installed nltk-3.9.2\n"
          ]
        }
      ]
    },
    {
      "cell_type": "code",
      "source": [
        "from importlib.metadata import version\n",
        "import nltk\n",
        "nltk.download('stopwords')\n",
        "\n",
        "import numpy as np\n",
        "import pandas as pd\n",
        "import os\n",
        "import re\n",
        "import matplotlib.pyplot as plt\n",
        "from nltk.corpus import stopwords\n",
        "from bs4 import BeautifulSoup\n",
        "\n",
        "import torch\n",
        "from collections import Counter\n",
        "import summa\n",
        "\n",
        "import urllib.request\n",
        "import warnings\n",
        "warnings.filterwarnings(\"ignore\", category=UserWarning, module='bs4')\n",
        "\n",
        "print(nltk.__version__)\n",
        "print(torch.__version__)\n",
        "print(pd.__version__)\n",
        "print(version('summa'))"
      ],
      "metadata": {
        "colab": {
          "base_uri": "https://localhost:8080/"
        },
        "id": "nTWtZWt76iPT",
        "outputId": "0d7fde54-e50a-4c61-aafa-5c5e009266bf"
      },
      "execution_count": null,
      "outputs": [
        {
          "output_type": "stream",
          "name": "stderr",
          "text": [
            "[nltk_data] Downloading package stopwords to /root/nltk_data...\n",
            "[nltk_data]   Unzipping corpora/stopwords.zip.\n"
          ]
        },
        {
          "output_type": "stream",
          "name": "stdout",
          "text": [
            "3.9.2\n",
            "2.8.0+cu126\n",
            "2.2.2\n",
            "1.2.0\n"
          ]
        }
      ]
    },
    {
      "cell_type": "code",
      "source": [
        "import urllib.request\n",
        "urllib.request.urlretrieve(\"https://raw.githubusercontent.com/sunnysai12345/News_Summary/master/news_summary_more.csv\", filename=\"news_summary_more.csv\")\n",
        "data = pd.read_csv('news_summary_more.csv', encoding='iso-8859-1')\n",
        "data.sample(10)"
      ],
      "metadata": {
        "colab": {
          "base_uri": "https://localhost:8080/",
          "height": 363
        },
        "id": "3ggG6JRXllwW",
        "outputId": "2d14cfc2-d5a4-4b50-cce7-bda1b659928c"
      },
      "execution_count": null,
      "outputs": [
        {
          "output_type": "execute_result",
          "data": {
            "text/plain": [
              "                                               headlines  \\\n",
              "1110   Musk's Boring Company fires 5 workers since un...   \n",
              "35186  French court bans couple from naming their bab...   \n",
              "27588  4-yr-old gangraped by four minors in UP after ...   \n",
              "40776  Mum Police uses ball-tampering row meme to spr...   \n",
              "36960  Saffron-coloured 'Yogi mango' displayed at fes...   \n",
              "57255  FIR filed against BJP leader for calling Rahul...   \n",
              "61421  China to build police station powered by AI, n...   \n",
              "66750  Bihar govt school with 600 kids functioning wi...   \n",
              "20378  India Kabaddi captain out of Asiad semis with ...   \n",
              "11370  5 Bhutan nationals caught smuggling 20 kg gold...   \n",
              "\n",
              "                                                    text  \n",
              "1110   Elon Musk-led tunnel digging startup The Borin...  \n",
              "35186  A French court has banned a couple from naming...  \n",
              "27588  A 4-year-old girl was allegedly gangraped by f...  \n",
              "40776  The Mumbai Police on Friday used the reference...  \n",
              "36960  During the sixth mango festival in Lucknow, a ...  \n",
              "57255  Mumbai Congress chief Sanjay Nirupam on Friday...  \n",
              "61421  The Chinese government has announced that it w...  \n",
              "66750  A government school in Bihar's Gaya with 600 s...  \n",
              "20378  A tackle during the semi-final match between I...  \n",
              "11370  The Directorate of Revenue Intelligence arrest...  "
            ],
            "text/html": [
              "\n",
              "  <div id=\"df-76690993-6e1e-4cfa-ad37-7464c2e7931f\" class=\"colab-df-container\">\n",
              "    <div>\n",
              "<style scoped>\n",
              "    .dataframe tbody tr th:only-of-type {\n",
              "        vertical-align: middle;\n",
              "    }\n",
              "\n",
              "    .dataframe tbody tr th {\n",
              "        vertical-align: top;\n",
              "    }\n",
              "\n",
              "    .dataframe thead th {\n",
              "        text-align: right;\n",
              "    }\n",
              "</style>\n",
              "<table border=\"1\" class=\"dataframe\">\n",
              "  <thead>\n",
              "    <tr style=\"text-align: right;\">\n",
              "      <th></th>\n",
              "      <th>headlines</th>\n",
              "      <th>text</th>\n",
              "    </tr>\n",
              "  </thead>\n",
              "  <tbody>\n",
              "    <tr>\n",
              "      <th>1110</th>\n",
              "      <td>Musk's Boring Company fires 5 workers since un...</td>\n",
              "      <td>Elon Musk-led tunnel digging startup The Borin...</td>\n",
              "    </tr>\n",
              "    <tr>\n",
              "      <th>35186</th>\n",
              "      <td>French court bans couple from naming their bab...</td>\n",
              "      <td>A French court has banned a couple from naming...</td>\n",
              "    </tr>\n",
              "    <tr>\n",
              "      <th>27588</th>\n",
              "      <td>4-yr-old gangraped by four minors in UP after ...</td>\n",
              "      <td>A 4-year-old girl was allegedly gangraped by f...</td>\n",
              "    </tr>\n",
              "    <tr>\n",
              "      <th>40776</th>\n",
              "      <td>Mum Police uses ball-tampering row meme to spr...</td>\n",
              "      <td>The Mumbai Police on Friday used the reference...</td>\n",
              "    </tr>\n",
              "    <tr>\n",
              "      <th>36960</th>\n",
              "      <td>Saffron-coloured 'Yogi mango' displayed at fes...</td>\n",
              "      <td>During the sixth mango festival in Lucknow, a ...</td>\n",
              "    </tr>\n",
              "    <tr>\n",
              "      <th>57255</th>\n",
              "      <td>FIR filed against BJP leader for calling Rahul...</td>\n",
              "      <td>Mumbai Congress chief Sanjay Nirupam on Friday...</td>\n",
              "    </tr>\n",
              "    <tr>\n",
              "      <th>61421</th>\n",
              "      <td>China to build police station powered by AI, n...</td>\n",
              "      <td>The Chinese government has announced that it w...</td>\n",
              "    </tr>\n",
              "    <tr>\n",
              "      <th>66750</th>\n",
              "      <td>Bihar govt school with 600 kids functioning wi...</td>\n",
              "      <td>A government school in Bihar's Gaya with 600 s...</td>\n",
              "    </tr>\n",
              "    <tr>\n",
              "      <th>20378</th>\n",
              "      <td>India Kabaddi captain out of Asiad semis with ...</td>\n",
              "      <td>A tackle during the semi-final match between I...</td>\n",
              "    </tr>\n",
              "    <tr>\n",
              "      <th>11370</th>\n",
              "      <td>5 Bhutan nationals caught smuggling 20 kg gold...</td>\n",
              "      <td>The Directorate of Revenue Intelligence arrest...</td>\n",
              "    </tr>\n",
              "  </tbody>\n",
              "</table>\n",
              "</div>\n",
              "    <div class=\"colab-df-buttons\">\n",
              "\n",
              "  <div class=\"colab-df-container\">\n",
              "    <button class=\"colab-df-convert\" onclick=\"convertToInteractive('df-76690993-6e1e-4cfa-ad37-7464c2e7931f')\"\n",
              "            title=\"Convert this dataframe to an interactive table.\"\n",
              "            style=\"display:none;\">\n",
              "\n",
              "  <svg xmlns=\"http://www.w3.org/2000/svg\" height=\"24px\" viewBox=\"0 -960 960 960\">\n",
              "    <path d=\"M120-120v-720h720v720H120Zm60-500h600v-160H180v160Zm220 220h160v-160H400v160Zm0 220h160v-160H400v160ZM180-400h160v-160H180v160Zm440 0h160v-160H620v160ZM180-180h160v-160H180v160Zm440 0h160v-160H620v160Z\"/>\n",
              "  </svg>\n",
              "    </button>\n",
              "\n",
              "  <style>\n",
              "    .colab-df-container {\n",
              "      display:flex;\n",
              "      gap: 12px;\n",
              "    }\n",
              "\n",
              "    .colab-df-convert {\n",
              "      background-color: #E8F0FE;\n",
              "      border: none;\n",
              "      border-radius: 50%;\n",
              "      cursor: pointer;\n",
              "      display: none;\n",
              "      fill: #1967D2;\n",
              "      height: 32px;\n",
              "      padding: 0 0 0 0;\n",
              "      width: 32px;\n",
              "    }\n",
              "\n",
              "    .colab-df-convert:hover {\n",
              "      background-color: #E2EBFA;\n",
              "      box-shadow: 0px 1px 2px rgba(60, 64, 67, 0.3), 0px 1px 3px 1px rgba(60, 64, 67, 0.15);\n",
              "      fill: #174EA6;\n",
              "    }\n",
              "\n",
              "    .colab-df-buttons div {\n",
              "      margin-bottom: 4px;\n",
              "    }\n",
              "\n",
              "    [theme=dark] .colab-df-convert {\n",
              "      background-color: #3B4455;\n",
              "      fill: #D2E3FC;\n",
              "    }\n",
              "\n",
              "    [theme=dark] .colab-df-convert:hover {\n",
              "      background-color: #434B5C;\n",
              "      box-shadow: 0px 1px 3px 1px rgba(0, 0, 0, 0.15);\n",
              "      filter: drop-shadow(0px 1px 2px rgba(0, 0, 0, 0.3));\n",
              "      fill: #FFFFFF;\n",
              "    }\n",
              "  </style>\n",
              "\n",
              "    <script>\n",
              "      const buttonEl =\n",
              "        document.querySelector('#df-76690993-6e1e-4cfa-ad37-7464c2e7931f button.colab-df-convert');\n",
              "      buttonEl.style.display =\n",
              "        google.colab.kernel.accessAllowed ? 'block' : 'none';\n",
              "\n",
              "      async function convertToInteractive(key) {\n",
              "        const element = document.querySelector('#df-76690993-6e1e-4cfa-ad37-7464c2e7931f');\n",
              "        const dataTable =\n",
              "          await google.colab.kernel.invokeFunction('convertToInteractive',\n",
              "                                                    [key], {});\n",
              "        if (!dataTable) return;\n",
              "\n",
              "        const docLinkHtml = 'Like what you see? Visit the ' +\n",
              "          '<a target=\"_blank\" href=https://colab.research.google.com/notebooks/data_table.ipynb>data table notebook</a>'\n",
              "          + ' to learn more about interactive tables.';\n",
              "        element.innerHTML = '';\n",
              "        dataTable['output_type'] = 'display_data';\n",
              "        await google.colab.output.renderOutput(dataTable, element);\n",
              "        const docLink = document.createElement('div');\n",
              "        docLink.innerHTML = docLinkHtml;\n",
              "        element.appendChild(docLink);\n",
              "      }\n",
              "    </script>\n",
              "  </div>\n",
              "\n",
              "\n",
              "    <div id=\"df-73005d8e-060b-4afb-a3d7-b3f1b3d41cc8\">\n",
              "      <button class=\"colab-df-quickchart\" onclick=\"quickchart('df-73005d8e-060b-4afb-a3d7-b3f1b3d41cc8')\"\n",
              "                title=\"Suggest charts\"\n",
              "                style=\"display:none;\">\n",
              "\n",
              "<svg xmlns=\"http://www.w3.org/2000/svg\" height=\"24px\"viewBox=\"0 0 24 24\"\n",
              "     width=\"24px\">\n",
              "    <g>\n",
              "        <path d=\"M19 3H5c-1.1 0-2 .9-2 2v14c0 1.1.9 2 2 2h14c1.1 0 2-.9 2-2V5c0-1.1-.9-2-2-2zM9 17H7v-7h2v7zm4 0h-2V7h2v10zm4 0h-2v-4h2v4z\"/>\n",
              "    </g>\n",
              "</svg>\n",
              "      </button>\n",
              "\n",
              "<style>\n",
              "  .colab-df-quickchart {\n",
              "      --bg-color: #E8F0FE;\n",
              "      --fill-color: #1967D2;\n",
              "      --hover-bg-color: #E2EBFA;\n",
              "      --hover-fill-color: #174EA6;\n",
              "      --disabled-fill-color: #AAA;\n",
              "      --disabled-bg-color: #DDD;\n",
              "  }\n",
              "\n",
              "  [theme=dark] .colab-df-quickchart {\n",
              "      --bg-color: #3B4455;\n",
              "      --fill-color: #D2E3FC;\n",
              "      --hover-bg-color: #434B5C;\n",
              "      --hover-fill-color: #FFFFFF;\n",
              "      --disabled-bg-color: #3B4455;\n",
              "      --disabled-fill-color: #666;\n",
              "  }\n",
              "\n",
              "  .colab-df-quickchart {\n",
              "    background-color: var(--bg-color);\n",
              "    border: none;\n",
              "    border-radius: 50%;\n",
              "    cursor: pointer;\n",
              "    display: none;\n",
              "    fill: var(--fill-color);\n",
              "    height: 32px;\n",
              "    padding: 0;\n",
              "    width: 32px;\n",
              "  }\n",
              "\n",
              "  .colab-df-quickchart:hover {\n",
              "    background-color: var(--hover-bg-color);\n",
              "    box-shadow: 0 1px 2px rgba(60, 64, 67, 0.3), 0 1px 3px 1px rgba(60, 64, 67, 0.15);\n",
              "    fill: var(--button-hover-fill-color);\n",
              "  }\n",
              "\n",
              "  .colab-df-quickchart-complete:disabled,\n",
              "  .colab-df-quickchart-complete:disabled:hover {\n",
              "    background-color: var(--disabled-bg-color);\n",
              "    fill: var(--disabled-fill-color);\n",
              "    box-shadow: none;\n",
              "  }\n",
              "\n",
              "  .colab-df-spinner {\n",
              "    border: 2px solid var(--fill-color);\n",
              "    border-color: transparent;\n",
              "    border-bottom-color: var(--fill-color);\n",
              "    animation:\n",
              "      spin 1s steps(1) infinite;\n",
              "  }\n",
              "\n",
              "  @keyframes spin {\n",
              "    0% {\n",
              "      border-color: transparent;\n",
              "      border-bottom-color: var(--fill-color);\n",
              "      border-left-color: var(--fill-color);\n",
              "    }\n",
              "    20% {\n",
              "      border-color: transparent;\n",
              "      border-left-color: var(--fill-color);\n",
              "      border-top-color: var(--fill-color);\n",
              "    }\n",
              "    30% {\n",
              "      border-color: transparent;\n",
              "      border-left-color: var(--fill-color);\n",
              "      border-top-color: var(--fill-color);\n",
              "      border-right-color: var(--fill-color);\n",
              "    }\n",
              "    40% {\n",
              "      border-color: transparent;\n",
              "      border-right-color: var(--fill-color);\n",
              "      border-top-color: var(--fill-color);\n",
              "    }\n",
              "    60% {\n",
              "      border-color: transparent;\n",
              "      border-right-color: var(--fill-color);\n",
              "    }\n",
              "    80% {\n",
              "      border-color: transparent;\n",
              "      border-right-color: var(--fill-color);\n",
              "      border-bottom-color: var(--fill-color);\n",
              "    }\n",
              "    90% {\n",
              "      border-color: transparent;\n",
              "      border-bottom-color: var(--fill-color);\n",
              "    }\n",
              "  }\n",
              "</style>\n",
              "\n",
              "      <script>\n",
              "        async function quickchart(key) {\n",
              "          const quickchartButtonEl =\n",
              "            document.querySelector('#' + key + ' button');\n",
              "          quickchartButtonEl.disabled = true;  // To prevent multiple clicks.\n",
              "          quickchartButtonEl.classList.add('colab-df-spinner');\n",
              "          try {\n",
              "            const charts = await google.colab.kernel.invokeFunction(\n",
              "                'suggestCharts', [key], {});\n",
              "          } catch (error) {\n",
              "            console.error('Error during call to suggestCharts:', error);\n",
              "          }\n",
              "          quickchartButtonEl.classList.remove('colab-df-spinner');\n",
              "          quickchartButtonEl.classList.add('colab-df-quickchart-complete');\n",
              "        }\n",
              "        (() => {\n",
              "          let quickchartButtonEl =\n",
              "            document.querySelector('#df-73005d8e-060b-4afb-a3d7-b3f1b3d41cc8 button');\n",
              "          quickchartButtonEl.style.display =\n",
              "            google.colab.kernel.accessAllowed ? 'block' : 'none';\n",
              "        })();\n",
              "      </script>\n",
              "    </div>\n",
              "\n",
              "    </div>\n",
              "  </div>\n"
            ],
            "application/vnd.google.colaboratory.intrinsic+json": {
              "type": "dataframe",
              "summary": "{\n  \"name\": \"data\",\n  \"rows\": 10,\n  \"fields\": [\n    {\n      \"column\": \"headlines\",\n      \"properties\": {\n        \"dtype\": \"string\",\n        \"num_unique_values\": 10,\n        \"samples\": [\n          \"India Kabaddi captain out of Asiad semis with bloodied-face\",\n          \"French court bans couple from naming their baby 'Jihad'\",\n          \"FIR filed against BJP leader for calling Rahul 'Babar bhakt'\"\n        ],\n        \"semantic_type\": \"\",\n        \"description\": \"\"\n      }\n    },\n    {\n      \"column\": \"text\",\n      \"properties\": {\n        \"dtype\": \"string\",\n        \"num_unique_values\": 10,\n        \"samples\": [\n          \"A tackle during the semi-final match between India and Iran at the Asian Games 2018 left Indian Kabaddi captain Ajay Thakur with a bloodied face, forcing him to withdraw from the match immediately. The Indian men's team failed to reach the final of the event for the first time since 1990 when the sport was included in the Asian Games.\",\n          \"A French court has banned a couple from naming their baby boy 'Jihad', saying it would not be in the interest of the child. The court ordered the couple to reverse the vowels in his name to form the name 'Jahid'. Names including Nutella and Fraise have been banned in the past by French courts.\",\n          \"Mumbai Congress chief Sanjay Nirupam on Friday filed an FIR against BJP spokesperson GVL Narasimha Rao for calling Congress Vice President Rahul Gandhi a \\\"Babar bhakt\\\" and a \\\"kin of Khilji\\\". Rao had alleged that Gandhi has teamed up with Owaisis and Jilanis to oppose Ram temple in Ayodhya. Nirupam demanded strict action be taken against Rao.\"\n        ],\n        \"semantic_type\": \"\",\n        \"description\": \"\"\n      }\n    }\n  ]\n}"
            }
          },
          "metadata": {},
          "execution_count": 7
        }
      ]
    },
    {
      "cell_type": "markdown",
      "source": [
        "# 데이터 정리하기"
      ],
      "metadata": {
        "id": "4OhtUSStTRR8"
      }
    },
    {
      "cell_type": "code",
      "source": [
        "print('text 열에서 중복을 배제한 유일한 샘플의 수 :', data['text'].nunique())\n",
        "print('Headlines 열에서 중복을 배제한 유일한 샘플의 수 :', data['headlines'].nunique())"
      ],
      "metadata": {
        "colab": {
          "base_uri": "https://localhost:8080/"
        },
        "id": "PofiEOjATS6m",
        "outputId": "9f3d251c-b3fa-4d3a-cbe8-c1e417765805"
      },
      "execution_count": null,
      "outputs": [
        {
          "output_type": "stream",
          "name": "stdout",
          "text": [
            "text 열에서 중복을 배제한 유일한 샘플의 수 : 98360\n",
            "Headlines 열에서 중복을 배제한 유일한 샘플의 수 : 98280\n"
          ]
        }
      ]
    },
    {
      "cell_type": "code",
      "source": [
        "# inplace=True 를 설정하면 DataFrame 타입 값을 return 하지 않고 data 내부를 직접적으로 바꿉니다\n",
        "data.drop_duplicates(subset = ['text'], inplace=True)\n",
        "print('전체 샘플수 :', (len(data)))"
      ],
      "metadata": {
        "colab": {
          "base_uri": "https://localhost:8080/"
        },
        "id": "N3R5CBNoTTfS",
        "outputId": "69d22f5e-c233-4652-ad16-b34eb1f0fedf"
      },
      "execution_count": null,
      "outputs": [
        {
          "output_type": "stream",
          "name": "stdout",
          "text": [
            "전체 샘플수 : 98360\n"
          ]
        }
      ]
    },
    {
      "cell_type": "code",
      "source": [
        "print(data.isnull().sum())"
      ],
      "metadata": {
        "colab": {
          "base_uri": "https://localhost:8080/"
        },
        "id": "EjlNy6GATTh2",
        "outputId": "f05c1135-229f-469b-ca53-0781c0d31c64"
      },
      "execution_count": null,
      "outputs": [
        {
          "output_type": "stream",
          "name": "stdout",
          "text": [
            "headlines    0\n",
            "text         0\n",
            "dtype: int64\n"
          ]
        }
      ]
    },
    {
      "cell_type": "code",
      "source": [
        "data.dropna(axis=0, inplace=True)\n",
        "print('전체 샘플수 :', (len(data)))"
      ],
      "metadata": {
        "colab": {
          "base_uri": "https://localhost:8080/"
        },
        "id": "aKE5ekgoTTkV",
        "outputId": "6533be7d-91c8-416e-d533-cccc2f61fd82"
      },
      "execution_count": null,
      "outputs": [
        {
          "output_type": "stream",
          "name": "stdout",
          "text": [
            "전체 샘플수 : 98360\n"
          ]
        }
      ]
    },
    {
      "cell_type": "code",
      "source": [
        "contractions = {\"ain't\": \"is not\", \"aren't\": \"are not\",\"can't\": \"cannot\", \"'cause\": \"because\", \"could've\": \"could have\", \"couldn't\": \"could not\",\n",
        "                           \"didn't\": \"did not\",  \"doesn't\": \"does not\", \"don't\": \"do not\", \"hadn't\": \"had not\", \"hasn't\": \"has not\", \"haven't\": \"have not\",\n",
        "                           \"he'd\": \"he would\",\"he'll\": \"he will\", \"he's\": \"he is\", \"how'd\": \"how did\", \"how'd'y\": \"how do you\", \"how'll\": \"how will\", \"how's\": \"how is\",\n",
        "                           \"I'd\": \"I would\", \"I'd've\": \"I would have\", \"I'll\": \"I will\", \"I'll've\": \"I will have\",\"I'm\": \"I am\", \"I've\": \"I have\", \"i'd\": \"i would\",\n",
        "                           \"i'd've\": \"i would have\", \"i'll\": \"i will\",  \"i'll've\": \"i will have\",\"i'm\": \"i am\", \"i've\": \"i have\", \"isn't\": \"is not\", \"it'd\": \"it would\",\n",
        "                           \"it'd've\": \"it would have\", \"it'll\": \"it will\", \"it'll've\": \"it will have\",\"it's\": \"it is\", \"let's\": \"let us\", \"ma'am\": \"madam\",\n",
        "                           \"mayn't\": \"may not\", \"might've\": \"might have\",\"mightn't\": \"might not\",\"mightn't've\": \"might not have\", \"must've\": \"must have\",\n",
        "                           \"mustn't\": \"must not\", \"mustn't've\": \"must not have\", \"needn't\": \"need not\", \"needn't've\": \"need not have\",\"o'clock\": \"of the clock\",\n",
        "                           \"oughtn't\": \"ought not\", \"oughtn't've\": \"ought not have\", \"shan't\": \"shall not\", \"sha'n't\": \"shall not\", \"shan't've\": \"shall not have\",\n",
        "                           \"she'd\": \"she would\", \"she'd've\": \"she would have\", \"she'll\": \"she will\", \"she'll've\": \"she will have\", \"she's\": \"she is\",\n",
        "                           \"should've\": \"should have\", \"shouldn't\": \"should not\", \"shouldn't've\": \"should not have\", \"so've\": \"so have\",\"so's\": \"so as\",\n",
        "                           \"this's\": \"this is\",\"that'd\": \"that would\", \"that'd've\": \"that would have\", \"that's\": \"that is\", \"there'd\": \"there would\",\n",
        "                           \"there'd've\": \"there would have\", \"there's\": \"there is\", \"here's\": \"here is\",\"they'd\": \"they would\", \"they'd've\": \"they would have\",\n",
        "                           \"they'll\": \"they will\", \"they'll've\": \"they will have\", \"they're\": \"they are\", \"they've\": \"they have\", \"to've\": \"to have\",\n",
        "                           \"wasn't\": \"was not\", \"we'd\": \"we would\", \"we'd've\": \"we would have\", \"we'll\": \"we will\", \"we'll've\": \"we will have\", \"we're\": \"we are\",\n",
        "                           \"we've\": \"we have\", \"weren't\": \"were not\", \"what'll\": \"what will\", \"what'll've\": \"what will have\", \"what're\": \"what are\",\n",
        "                           \"what's\": \"what is\", \"what've\": \"what have\", \"when's\": \"when is\", \"when've\": \"when have\", \"where'd\": \"where did\", \"where's\": \"where is\",\n",
        "                           \"where've\": \"where have\", \"who'll\": \"who will\", \"who'll've\": \"who will have\", \"who's\": \"who is\", \"who've\": \"who have\",\n",
        "                           \"why's\": \"why is\", \"why've\": \"why have\", \"will've\": \"will have\", \"won't\": \"will not\", \"won't've\": \"will not have\",\n",
        "                           \"would've\": \"would have\", \"wouldn't\": \"would not\", \"wouldn't've\": \"would not have\", \"y'all\": \"you all\",\n",
        "                           \"y'all'd\": \"you all would\",\"y'all'd've\": \"you all would have\",\"y'all're\": \"you all are\",\"y'all've\": \"you all have\",\n",
        "                           \"you'd\": \"you would\", \"you'd've\": \"you would have\", \"you'll\": \"you will\", \"you'll've\": \"you will have\",\n",
        "                           \"you're\": \"you are\", \"you've\": \"you have\"}\n",
        "\n",
        "print(\"정규화 사전의 수: \", len(contractions))"
      ],
      "metadata": {
        "colab": {
          "base_uri": "https://localhost:8080/"
        },
        "id": "0t5mP9jyTTmz",
        "outputId": "0ac659cb-204e-47bf-a7c2-ea2dcdabaca7"
      },
      "execution_count": null,
      "outputs": [
        {
          "output_type": "stream",
          "name": "stdout",
          "text": [
            "정규화 사전의 수:  120\n"
          ]
        }
      ]
    },
    {
      "cell_type": "code",
      "source": [
        "print('불용어 개수 :', len(stopwords.words('english') ))\n",
        "print(stopwords.words('english'))"
      ],
      "metadata": {
        "colab": {
          "base_uri": "https://localhost:8080/"
        },
        "id": "rVJcWW9uTTpR",
        "outputId": "79fb8c9c-7a87-4d2a-e819-9da2d6012fb8"
      },
      "execution_count": null,
      "outputs": [
        {
          "output_type": "stream",
          "name": "stdout",
          "text": [
            "불용어 개수 : 198\n",
            "['a', 'about', 'above', 'after', 'again', 'against', 'ain', 'all', 'am', 'an', 'and', 'any', 'are', 'aren', \"aren't\", 'as', 'at', 'be', 'because', 'been', 'before', 'being', 'below', 'between', 'both', 'but', 'by', 'can', 'couldn', \"couldn't\", 'd', 'did', 'didn', \"didn't\", 'do', 'does', 'doesn', \"doesn't\", 'doing', 'don', \"don't\", 'down', 'during', 'each', 'few', 'for', 'from', 'further', 'had', 'hadn', \"hadn't\", 'has', 'hasn', \"hasn't\", 'have', 'haven', \"haven't\", 'having', 'he', \"he'd\", \"he'll\", 'her', 'here', 'hers', 'herself', \"he's\", 'him', 'himself', 'his', 'how', 'i', \"i'd\", 'if', \"i'll\", \"i'm\", 'in', 'into', 'is', 'isn', \"isn't\", 'it', \"it'd\", \"it'll\", \"it's\", 'its', 'itself', \"i've\", 'just', 'll', 'm', 'ma', 'me', 'mightn', \"mightn't\", 'more', 'most', 'mustn', \"mustn't\", 'my', 'myself', 'needn', \"needn't\", 'no', 'nor', 'not', 'now', 'o', 'of', 'off', 'on', 'once', 'only', 'or', 'other', 'our', 'ours', 'ourselves', 'out', 'over', 'own', 're', 's', 'same', 'shan', \"shan't\", 'she', \"she'd\", \"she'll\", \"she's\", 'should', 'shouldn', \"shouldn't\", \"should've\", 'so', 'some', 'such', 't', 'than', 'that', \"that'll\", 'the', 'their', 'theirs', 'them', 'themselves', 'then', 'there', 'these', 'they', \"they'd\", \"they'll\", \"they're\", \"they've\", 'this', 'those', 'through', 'to', 'too', 'under', 'until', 'up', 've', 'very', 'was', 'wasn', \"wasn't\", 'we', \"we'd\", \"we'll\", \"we're\", 'were', 'weren', \"weren't\", \"we've\", 'what', 'when', 'where', 'which', 'while', 'who', 'whom', 'why', 'will', 'with', 'won', \"won't\", 'wouldn', \"wouldn't\", 'y', 'you', \"you'd\", \"you'll\", 'your', \"you're\", 'yours', 'yourself', 'yourselves', \"you've\"]\n"
          ]
        }
      ]
    },
    {
      "cell_type": "code",
      "source": [
        "# 데이터 전처리 함수\n",
        "def preprocess_sentence(sentence, remove_stopwords=True):\n",
        "    sentence = sentence.lower() # 텍스트 소문자화\n",
        "    sentence = BeautifulSoup(sentence, \"lxml\").text # <br />, <a href = ...> 등의 html 태그 제거\n",
        "    sentence = re.sub(r'\\([^)]*\\)', '', sentence) # 괄호로 닫힌 문자열 (...) 제거 Ex) my husband (and myself!) for => my husband for\n",
        "    sentence = re.sub('\"','', sentence) # 쌍따옴표 \" 제거\n",
        "    sentence = ' '.join([contractions[t] if t in contractions else t for t in sentence.split(\" \")]) # 약어 정규화\n",
        "    sentence = re.sub(r\"'s\\b\",\"\", sentence) # 소유격 제거. Ex) roland's -> roland\n",
        "    sentence = re.sub(\"[^a-zA-Z]\", \" \", sentence) # 영어 외 문자(숫자, 특수문자 등) 공백으로 변환\n",
        "    sentence = re.sub('[m]{2,}', 'mm', sentence) # m이 3개 이상이면 2개로 변경. Ex) ummmmmmm yeah -> umm yeah\n",
        "\n",
        "    # 불용어 제거 (Text)\n",
        "    if remove_stopwords:\n",
        "        tokens = ' '.join(word for word in sentence.split() if not word in stopwords.words('english') if len(word) > 1)\n",
        "    # 불용어 미제거 (Summary)\n",
        "    else:\n",
        "        tokens = ' '.join(word for word in sentence.split() if len(word) > 1)\n",
        "    return tokens"
      ],
      "metadata": {
        "id": "TuDMCrSLTTr9"
      },
      "execution_count": null,
      "outputs": []
    },
    {
      "cell_type": "code",
      "source": [
        "# 전체 Text 데이터에 대한 전처리 : 10분 이상 시간이 걸릴 수 있습니다.\n",
        "clean_text = []\n",
        "\n",
        "for sentence in data['text']:\n",
        "    clean_text.append(preprocess_sentence(sentence))\n",
        "\n",
        "# 전처리 후 출력\n",
        "print(\"Text 전처리 후 결과: \", clean_text[:5])"
      ],
      "metadata": {
        "colab": {
          "base_uri": "https://localhost:8080/"
        },
        "id": "jKwpvrrETTzw",
        "outputId": "e4480d27-e557-4d59-fdbb-c9124e2e74da"
      },
      "execution_count": null,
      "outputs": [
        {
          "output_type": "stream",
          "name": "stdout",
          "text": [
            "Text 전처리 후 결과:  ['saurav kant alumnus upgrad iiit pg program machine learning artificial intelligence sr systems engineer infosys almost years work experience program upgrad degree career support helped transition data scientist tech mahindra salary hike upgrad online power learning powered lakh careers', 'kunal shah credit card bill payment platform cred gave users chance win free food swiggy one year pranav kaushik delhi techie bagged reward spending cred coins users get one cred coin per rupee bill paid used avail rewards brands like ixigo bookmyshow ubereats cult fit', 'new zealand defeated india wickets fourth odi hamilton thursday win first match five match odi series india lost international match rohit sharma captaincy consecutive victories dating back march match witnessed india getting seventh lowest total odi cricket history', 'aegon life iterm insurance plan customers enjoy tax benefits premiums paid save taxes plan provides life cover age years also customers options insure critical illnesses disability accidental death benefit rider life cover age years', 'speaking sexual harassment allegations rajkumar hirani sonam kapoor said known hirani many years true metoo movement get derailed metoo movement always believe woman case need reserve judgment added hirani accused assistant worked sanju']\n"
          ]
        }
      ]
    },
    {
      "cell_type": "code",
      "source": [
        "# 전체 Headlines 데이터에 대한 전처리 : 5분 이상 시간이 걸릴 수 있습니다.\n",
        "clean_headlines = []\n",
        "\n",
        "for sentence in data['headlines']:\n",
        "    clean_headlines.append(preprocess_sentence(sentence, remove_stopwords=False))\n",
        "\n",
        "print(\"Headlines 전처리 후 결과: \", clean_headlines[:5])"
      ],
      "metadata": {
        "colab": {
          "base_uri": "https://localhost:8080/"
        },
        "id": "Fs5oJSGjTT2l",
        "outputId": "de15f78d-72c4-46fa-b58c-372695372c04"
      },
      "execution_count": null,
      "outputs": [
        {
          "output_type": "stream",
          "name": "stdout",
          "text": [
            "Headlines 전처리 후 결과:  ['upgrad learner switches to career in ml al with salary hike', 'delhi techie wins free food from swiggy for one year on cred', 'new zealand end rohit sharma led india match winning streak', 'aegon life iterm insurance plan helps customers save tax', 'have known hirani for yrs what if metoo claims are not true sonam']\n"
          ]
        }
      ]
    },
    {
      "cell_type": "code",
      "source": [
        "data['text'] = clean_text\n",
        "data['headlines'] = clean_headlines\n",
        "\n",
        "# 빈 값을 Null 값으로 변환\n",
        "data.replace('', np.nan, inplace=True)"
      ],
      "metadata": {
        "id": "gabOWZ1oTT5K"
      },
      "execution_count": null,
      "outputs": []
    },
    {
      "cell_type": "code",
      "source": [
        "data.isnull().sum()"
      ],
      "metadata": {
        "colab": {
          "base_uri": "https://localhost:8080/",
          "height": 147
        },
        "id": "KxBA3eJlTT7x",
        "outputId": "673a190f-1c54-4888-a2b2-823ce3a9cb17"
      },
      "execution_count": null,
      "outputs": [
        {
          "output_type": "execute_result",
          "data": {
            "text/plain": [
              "headlines    0\n",
              "text         0\n",
              "dtype: int64"
            ],
            "text/html": [
              "<div>\n",
              "<style scoped>\n",
              "    .dataframe tbody tr th:only-of-type {\n",
              "        vertical-align: middle;\n",
              "    }\n",
              "\n",
              "    .dataframe tbody tr th {\n",
              "        vertical-align: top;\n",
              "    }\n",
              "\n",
              "    .dataframe thead th {\n",
              "        text-align: right;\n",
              "    }\n",
              "</style>\n",
              "<table border=\"1\" class=\"dataframe\">\n",
              "  <thead>\n",
              "    <tr style=\"text-align: right;\">\n",
              "      <th></th>\n",
              "      <th>0</th>\n",
              "    </tr>\n",
              "  </thead>\n",
              "  <tbody>\n",
              "    <tr>\n",
              "      <th>headlines</th>\n",
              "      <td>0</td>\n",
              "    </tr>\n",
              "    <tr>\n",
              "      <th>text</th>\n",
              "      <td>0</td>\n",
              "    </tr>\n",
              "  </tbody>\n",
              "</table>\n",
              "</div><br><label><b>dtype:</b> int64</label>"
            ]
          },
          "metadata": {},
          "execution_count": 18
        }
      ]
    },
    {
      "cell_type": "code",
      "source": [
        "data.dropna(axis=0, inplace=True)\n",
        "print('전체 샘플수 :', (len(data)))"
      ],
      "metadata": {
        "colab": {
          "base_uri": "https://localhost:8080/"
        },
        "id": "Lgpin58FTT-T",
        "outputId": "e63c05ab-76c4-469b-f059-feae76f12746"
      },
      "execution_count": null,
      "outputs": [
        {
          "output_type": "stream",
          "name": "stdout",
          "text": [
            "전체 샘플수 : 98360\n"
          ]
        }
      ]
    },
    {
      "cell_type": "markdown",
      "source": [
        "# 훈련데이터와 테스트 데이터 나누기"
      ],
      "metadata": {
        "id": "LV0yHysJZ3GI"
      }
    },
    {
      "cell_type": "code",
      "source": [
        "# 길이 분포 출력\n",
        "import matplotlib.pyplot as plt\n",
        "\n",
        "text_len = [len(s.split()) for s in data['text']]\n",
        "summary_len = [len(s.split()) for s in data['headlines']]\n",
        "\n",
        "print('텍스트의 최소 길이 : {}'.format(np.min(text_len)))\n",
        "print('텍스트의 최대 길이 : {}'.format(np.max(text_len)))\n",
        "print('텍스트의 평균 길이 : {}'.format(np.mean(text_len)))\n",
        "print('요약의 최소 길이 : {}'.format(np.min(summary_len)))\n",
        "print('요약의 최대 길이 : {}'.format(np.max(summary_len)))\n",
        "print('요약의 평균 길이 : {}'.format(np.mean(summary_len)))\n",
        "\n",
        "plt.subplot(1,2,1)\n",
        "plt.boxplot(text_len)\n",
        "plt.title('Text')\n",
        "plt.subplot(1,2,2)\n",
        "plt.boxplot(summary_len)\n",
        "plt.title('headlines')\n",
        "plt.tight_layout()\n",
        "plt.show()\n",
        "\n",
        "plt.title('Text')\n",
        "plt.hist(text_len, bins = 40)\n",
        "plt.xlabel('length of samples')\n",
        "plt.ylabel('number of samples')\n",
        "plt.show()\n",
        "\n",
        "plt.title('headlines')\n",
        "plt.hist(summary_len, bins = 40)\n",
        "plt.xlabel('length of samples')\n",
        "plt.ylabel('number of samples')\n",
        "plt.show()"
      ],
      "metadata": {
        "id": "Sdz3OMe8TUBH",
        "colab": {
          "base_uri": "https://localhost:8080/",
          "height": 1000
        },
        "outputId": "4be83924-52dc-49a7-b86b-fa08ef349076"
      },
      "execution_count": null,
      "outputs": [
        {
          "output_type": "stream",
          "name": "stdout",
          "text": [
            "텍스트의 최소 길이 : 1\n",
            "텍스트의 최대 길이 : 60\n",
            "텍스트의 평균 길이 : 35.09968483123221\n",
            "요약의 최소 길이 : 1\n",
            "요약의 최대 길이 : 16\n",
            "요약의 평균 길이 : 9.299532330215534\n"
          ]
        },
        {
          "output_type": "display_data",
          "data": {
            "text/plain": [
              "<Figure size 640x480 with 2 Axes>"
            ],
            "image/png": "[encoded data removed]"
          },
          "metadata": {}
        },
        {
          "output_type": "display_data",
          "data": {
            "text/plain": [
              "<Figure size 640x480 with 1 Axes>"
            ],
            "image/png": "[encoded data removed]"
          },
          "metadata": {}
        },
        {
          "output_type": "display_data",
          "data": {
            "text/plain": [
              "<Figure size 640x480 with 1 Axes>"
            ],
            "image/png": "[encoded data removed]"
          },
          "metadata": {}
        }
      ]
    },
    {
      "cell_type": "code",
      "source": [
        "text_max_len = 50\n",
        "summary_max_len = 8"
      ],
      "metadata": {
        "id": "8PY6FQPXTUDY"
      },
      "execution_count": null,
      "outputs": []
    },
    {
      "cell_type": "code",
      "source": [
        "def below_threshold_len(max_len, nested_list):\n",
        "  cnt = 0\n",
        "  for s in nested_list:\n",
        "    if(len(s.split()) <= max_len):\n",
        "        cnt = cnt + 1\n",
        "  print('전체 샘플 중 길이가 %s 이하인 샘플의 비율: %s'%(max_len, (cnt / len(nested_list))))"
      ],
      "metadata": {
        "id": "z-tzYaduZ_f8"
      },
      "execution_count": null,
      "outputs": []
    },
    {
      "cell_type": "code",
      "source": [
        "below_threshold_len(text_max_len, data['text'])\n",
        "below_threshold_len(summary_max_len, data['headlines'])"
      ],
      "metadata": {
        "id": "JNZy4z49TUF-",
        "colab": {
          "base_uri": "https://localhost:8080/"
        },
        "outputId": "e6f7305f-76be-4b2b-d192-b07b34c69141"
      },
      "execution_count": null,
      "outputs": [
        {
          "output_type": "stream",
          "name": "stdout",
          "text": [
            "전체 샘플 중 길이가 50 이하인 샘플의 비율: 0.9998576657177715\n",
            "전체 샘플 중 길이가 8 이하인 샘플의 비율: 0.2755693371289142\n"
          ]
        }
      ]
    },
    {
      "cell_type": "code",
      "source": [
        "data = data[data['text'].apply(lambda x: len(x.split()) <= text_max_len)]\n",
        "data = data[data['headlines'].apply(lambda x: len(x.split()) <= summary_max_len)]\n",
        "\n",
        "print('전체 샘플수 :', (len(data)))"
      ],
      "metadata": {
        "id": "l9vXc4VkaEqM",
        "colab": {
          "base_uri": "https://localhost:8080/"
        },
        "outputId": "5debda08-0e6d-4251-b931-a879d71e8d57"
      },
      "execution_count": null,
      "outputs": [
        {
          "output_type": "stream",
          "name": "stdout",
          "text": [
            "전체 샘플수 : 27105\n"
          ]
        }
      ]
    },
    {
      "cell_type": "markdown",
      "source": [
        "## 시작 토큰과 종료 토큰 추가하기"
      ],
      "metadata": {
        "id": "mWPjPyhJaNcM"
      }
    },
    {
      "cell_type": "code",
      "source": [
        "# 요약 데이터에는 시작 토큰과 종료 토큰을 추가한다.\n",
        "data['decoder_input'] = data['headlines'].apply(lambda x : 'sostoken '+ x)\n",
        "data['decoder_target'] = data['headlines'].apply(lambda x : x + ' eostoken')\n",
        "data.head()"
      ],
      "metadata": {
        "id": "dXJODvVcaEtA",
        "colab": {
          "base_uri": "https://localhost:8080/",
          "height": 362
        },
        "outputId": "c7fa1e9f-9407-42fd-dad2-d0d9569f5bb0"
      },
      "execution_count": null,
      "outputs": [
        {
          "output_type": "execute_result",
          "data": {
            "text/plain": [
              "                                            headlines  \\\n",
              "19  odisha cm patnaik controls mining mafia union ...   \n",
              "21  isro unveils bengaluru centre for manned space...   \n",
              "22              killed injured in saudi arabia floods   \n",
              "29  seat cushions from missing plane carrying foot...   \n",
              "36  agustawestland scam accused rajiv saxena extra...   \n",
              "\n",
              "                                                 text  \\\n",
              "19  union minister dharmendra pradhan wednesday cl...   \n",
              "21  indian space research organisation wednesday u...   \n",
              "22  least people killed others injured saudi arabi...   \n",
              "29  investigators searching lost plane carrying ar...   \n",
              "36  agustawestland chopper scam co accused rajiv s...   \n",
              "\n",
              "                                        decoder_input  \\\n",
              "19  sostoken odisha cm patnaik controls mining maf...   \n",
              "21  sostoken isro unveils bengaluru centre for man...   \n",
              "22     sostoken killed injured in saudi arabia floods   \n",
              "29  sostoken seat cushions from missing plane carr...   \n",
              "36  sostoken agustawestland scam accused rajiv sax...   \n",
              "\n",
              "                                       decoder_target  \n",
              "19  odisha cm patnaik controls mining mafia union ...  \n",
              "21  isro unveils bengaluru centre for manned space...  \n",
              "22     killed injured in saudi arabia floods eostoken  \n",
              "29  seat cushions from missing plane carrying foot...  \n",
              "36  agustawestland scam accused rajiv saxena extra...  "
            ],
            "text/html": [
              "\n",
              "  <div id=\"df-f9ae8455-e812-49e3-8056-8b010fc0edca\" class=\"colab-df-container\">\n",
              "    <div>\n",
              "<style scoped>\n",
              "    .dataframe tbody tr th:only-of-type {\n",
              "        vertical-align: middle;\n",
              "    }\n",
              "\n",
              "    .dataframe tbody tr th {\n",
              "        vertical-align: top;\n",
              "    }\n",
              "\n",
              "    .dataframe thead th {\n",
              "        text-align: right;\n",
              "    }\n",
              "</style>\n",
              "<table border=\"1\" class=\"dataframe\">\n",
              "  <thead>\n",
              "    <tr style=\"text-align: right;\">\n",
              "      <th></th>\n",
              "      <th>headlines</th>\n",
              "      <th>text</th>\n",
              "      <th>decoder_input</th>\n",
              "      <th>decoder_target</th>\n",
              "    </tr>\n",
              "  </thead>\n",
              "  <tbody>\n",
              "    <tr>\n",
              "      <th>19</th>\n",
              "      <td>odisha cm patnaik controls mining mafia union ...</td>\n",
              "      <td>union minister dharmendra pradhan wednesday cl...</td>\n",
              "      <td>sostoken odisha cm patnaik controls mining maf...</td>\n",
              "      <td>odisha cm patnaik controls mining mafia union ...</td>\n",
              "    </tr>\n",
              "    <tr>\n",
              "      <th>21</th>\n",
              "      <td>isro unveils bengaluru centre for manned space...</td>\n",
              "      <td>indian space research organisation wednesday u...</td>\n",
              "      <td>sostoken isro unveils bengaluru centre for man...</td>\n",
              "      <td>isro unveils bengaluru centre for manned space...</td>\n",
              "    </tr>\n",
              "    <tr>\n",
              "      <th>22</th>\n",
              "      <td>killed injured in saudi arabia floods</td>\n",
              "      <td>least people killed others injured saudi arabi...</td>\n",
              "      <td>sostoken killed injured in saudi arabia floods</td>\n",
              "      <td>killed injured in saudi arabia floods eostoken</td>\n",
              "    </tr>\n",
              "    <tr>\n",
              "      <th>29</th>\n",
              "      <td>seat cushions from missing plane carrying foot...</td>\n",
              "      <td>investigators searching lost plane carrying ar...</td>\n",
              "      <td>sostoken seat cushions from missing plane carr...</td>\n",
              "      <td>seat cushions from missing plane carrying foot...</td>\n",
              "    </tr>\n",
              "    <tr>\n",
              "      <th>36</th>\n",
              "      <td>agustawestland scam accused rajiv saxena extra...</td>\n",
              "      <td>agustawestland chopper scam co accused rajiv s...</td>\n",
              "      <td>sostoken agustawestland scam accused rajiv sax...</td>\n",
              "      <td>agustawestland scam accused rajiv saxena extra...</td>\n",
              "    </tr>\n",
              "  </tbody>\n",
              "</table>\n",
              "</div>\n",
              "    <div class=\"colab-df-buttons\">\n",
              "\n",
              "  <div class=\"colab-df-container\">\n",
              "    <button class=\"colab-df-convert\" onclick=\"convertToInteractive('df-f9ae8455-e812-49e3-8056-8b010fc0edca')\"\n",
              "            title=\"Convert this dataframe to an interactive table.\"\n",
              "            style=\"display:none;\">\n",
              "\n",
              "  <svg xmlns=\"http://www.w3.org/2000/svg\" height=\"24px\" viewBox=\"0 -960 960 960\">\n",
              "    <path d=\"M120-120v-720h720v720H120Zm60-500h600v-160H180v160Zm220 220h160v-160H400v160Zm0 220h160v-160H400v160ZM180-400h160v-160H180v160Zm440 0h160v-160H620v160ZM180-180h160v-160H180v160Zm440 0h160v-160H620v160Z\"/>\n",
              "  </svg>\n",
              "    </button>\n",
              "\n",
              "  <style>\n",
              "    .colab-df-container {\n",
              "      display:flex;\n",
              "      gap: 12px;\n",
              "    }\n",
              "\n",
              "    .colab-df-convert {\n",
              "      background-color: #E8F0FE;\n",
              "      border: none;\n",
              "      border-radius: 50%;\n",
              "      cursor: pointer;\n",
              "      display: none;\n",
              "      fill: #1967D2;\n",
              "      height: 32px;\n",
              "      padding: 0 0 0 0;\n",
              "      width: 32px;\n",
              "    }\n",
              "\n",
              "    .colab-df-convert:hover {\n",
              "      background-color: #E2EBFA;\n",
              "      box-shadow: 0px 1px 2px rgba(60, 64, 67, 0.3), 0px 1px 3px 1px rgba(60, 64, 67, 0.15);\n",
              "      fill: #174EA6;\n",
              "    }\n",
              "\n",
              "    .colab-df-buttons div {\n",
              "      margin-bottom: 4px;\n",
              "    }\n",
              "\n",
              "    [theme=dark] .colab-df-convert {\n",
              "      background-color: #3B4455;\n",
              "      fill: #D2E3FC;\n",
              "    }\n",
              "\n",
              "    [theme=dark] .colab-df-convert:hover {\n",
              "      background-color: #434B5C;\n",
              "      box-shadow: 0px 1px 3px 1px rgba(0, 0, 0, 0.15);\n",
              "      filter: drop-shadow(0px 1px 2px rgba(0, 0, 0, 0.3));\n",
              "      fill: #FFFFFF;\n",
              "    }\n",
              "  </style>\n",
              "\n",
              "    <script>\n",
              "      const buttonEl =\n",
              "        document.querySelector('#df-f9ae8455-e812-49e3-8056-8b010fc0edca button.colab-df-convert');\n",
              "      buttonEl.style.display =\n",
              "        google.colab.kernel.accessAllowed ? 'block' : 'none';\n",
              "\n",
              "      async function convertToInteractive(key) {\n",
              "        const element = document.querySelector('#df-f9ae8455-e812-49e3-8056-8b010fc0edca');\n",
              "        const dataTable =\n",
              "          await google.colab.kernel.invokeFunction('convertToInteractive',\n",
              "                                                    [key], {});\n",
              "        if (!dataTable) return;\n",
              "\n",
              "        const docLinkHtml = 'Like what you see? Visit the ' +\n",
              "          '<a target=\"_blank\" href=https://colab.research.google.com/notebooks/data_table.ipynb>data table notebook</a>'\n",
              "          + ' to learn more about interactive tables.';\n",
              "        element.innerHTML = '';\n",
              "        dataTable['output_type'] = 'display_data';\n",
              "        await google.colab.output.renderOutput(dataTable, element);\n",
              "        const docLink = document.createElement('div');\n",
              "        docLink.innerHTML = docLinkHtml;\n",
              "        element.appendChild(docLink);\n",
              "      }\n",
              "    </script>\n",
              "  </div>\n",
              "\n",
              "\n",
              "    <div id=\"df-6eb6c26c-f71e-484d-a0c6-eec6116b7181\">\n",
              "      <button class=\"colab-df-quickchart\" onclick=\"quickchart('df-6eb6c26c-f71e-484d-a0c6-eec6116b7181')\"\n",
              "                title=\"Suggest charts\"\n",
              "                style=\"display:none;\">\n",
              "\n",
              "<svg xmlns=\"http://www.w3.org/2000/svg\" height=\"24px\"viewBox=\"0 0 24 24\"\n",
              "     width=\"24px\">\n",
              "    <g>\n",
              "        <path d=\"M19 3H5c-1.1 0-2 .9-2 2v14c0 1.1.9 2 2 2h14c1.1 0 2-.9 2-2V5c0-1.1-.9-2-2-2zM9 17H7v-7h2v7zm4 0h-2V7h2v10zm4 0h-2v-4h2v4z\"/>\n",
              "    </g>\n",
              "</svg>\n",
              "      </button>\n",
              "\n",
              "<style>\n",
              "  .colab-df-quickchart {\n",
              "      --bg-color: #E8F0FE;\n",
              "      --fill-color: #1967D2;\n",
              "      --hover-bg-color: #E2EBFA;\n",
              "      --hover-fill-color: #174EA6;\n",
              "      --disabled-fill-color: #AAA;\n",
              "      --disabled-bg-color: #DDD;\n",
              "  }\n",
              "\n",
              "  [theme=dark] .colab-df-quickchart {\n",
              "      --bg-color: #3B4455;\n",
              "      --fill-color: #D2E3FC;\n",
              "      --hover-bg-color: #434B5C;\n",
              "      --hover-fill-color: #FFFFFF;\n",
              "      --disabled-bg-color: #3B4455;\n",
              "      --disabled-fill-color: #666;\n",
              "  }\n",
              "\n",
              "  .colab-df-quickchart {\n",
              "    background-color: var(--bg-color);\n",
              "    border: none;\n",
              "    border-radius: 50%;\n",
              "    cursor: pointer;\n",
              "    display: none;\n",
              "    fill: var(--fill-color);\n",
              "    height: 32px;\n",
              "    padding: 0;\n",
              "    width: 32px;\n",
              "  }\n",
              "\n",
              "  .colab-df-quickchart:hover {\n",
              "    background-color: var(--hover-bg-color);\n",
              "    box-shadow: 0 1px 2px rgba(60, 64, 67, 0.3), 0 1px 3px 1px rgba(60, 64, 67, 0.15);\n",
              "    fill: var(--button-hover-fill-color);\n",
              "  }\n",
              "\n",
              "  .colab-df-quickchart-complete:disabled,\n",
              "  .colab-df-quickchart-complete:disabled:hover {\n",
              "    background-color: var(--disabled-bg-color);\n",
              "    fill: var(--disabled-fill-color);\n",
              "    box-shadow: none;\n",
              "  }\n",
              "\n",
              "  .colab-df-spinner {\n",
              "    border: 2px solid var(--fill-color);\n",
              "    border-color: transparent;\n",
              "    border-bottom-color: var(--fill-color);\n",
              "    animation:\n",
              "      spin 1s steps(1) infinite;\n",
              "  }\n",
              "\n",
              "  @keyframes spin {\n",
              "    0% {\n",
              "      border-color: transparent;\n",
              "      border-bottom-color: var(--fill-color);\n",
              "      border-left-color: var(--fill-color);\n",
              "    }\n",
              "    20% {\n",
              "      border-color: transparent;\n",
              "      border-left-color: var(--fill-color);\n",
              "      border-top-color: var(--fill-color);\n",
              "    }\n",
              "    30% {\n",
              "      border-color: transparent;\n",
              "      border-left-color: var(--fill-color);\n",
              "      border-top-color: var(--fill-color);\n",
              "      border-right-color: var(--fill-color);\n",
              "    }\n",
              "    40% {\n",
              "      border-color: transparent;\n",
              "      border-right-color: var(--fill-color);\n",
              "      border-top-color: var(--fill-color);\n",
              "    }\n",
              "    60% {\n",
              "      border-color: transparent;\n",
              "      border-right-color: var(--fill-color);\n",
              "    }\n",
              "    80% {\n",
              "      border-color: transparent;\n",
              "      border-right-color: var(--fill-color);\n",
              "      border-bottom-color: var(--fill-color);\n",
              "    }\n",
              "    90% {\n",
              "      border-color: transparent;\n",
              "      border-bottom-color: var(--fill-color);\n",
              "    }\n",
              "  }\n",
              "</style>\n",
              "\n",
              "      <script>\n",
              "        async function quickchart(key) {\n",
              "          const quickchartButtonEl =\n",
              "            document.querySelector('#' + key + ' button');\n",
              "          quickchartButtonEl.disabled = true;  // To prevent multiple clicks.\n",
              "          quickchartButtonEl.classList.add('colab-df-spinner');\n",
              "          try {\n",
              "            const charts = await google.colab.kernel.invokeFunction(\n",
              "                'suggestCharts', [key], {});\n",
              "          } catch (error) {\n",
              "            console.error('Error during call to suggestCharts:', error);\n",
              "          }\n",
              "          quickchartButtonEl.classList.remove('colab-df-spinner');\n",
              "          quickchartButtonEl.classList.add('colab-df-quickchart-complete');\n",
              "        }\n",
              "        (() => {\n",
              "          let quickchartButtonEl =\n",
              "            document.querySelector('#df-6eb6c26c-f71e-484d-a0c6-eec6116b7181 button');\n",
              "          quickchartButtonEl.style.display =\n",
              "            google.colab.kernel.accessAllowed ? 'block' : 'none';\n",
              "        })();\n",
              "      </script>\n",
              "    </div>\n",
              "\n",
              "    </div>\n",
              "  </div>\n"
            ],
            "application/vnd.google.colaboratory.intrinsic+json": {
              "type": "dataframe",
              "variable_name": "data",
              "summary": "{\n  \"name\": \"data\",\n  \"rows\": 27105,\n  \"fields\": [\n    {\n      \"column\": \"headlines\",\n      \"properties\": {\n        \"dtype\": \"string\",\n        \"num_unique_values\": 27033,\n        \"samples\": [\n          \"we are broken emotionally padmavati designers on vandalism\",\n          \"rare white snake found in australia\",\n          \"bhu vice chancellor goes on indefinite leave\"\n        ],\n        \"semantic_type\": \"\",\n        \"description\": \"\"\n      }\n    },\n    {\n      \"column\": \"text\",\n      \"properties\": {\n        \"dtype\": \"string\",\n        \"num_unique_values\": 27102,\n        \"samples\": [\n          \"kerala chief minister distress relief fund received crore donations excluding amount received public holidays report claimed amount received within span days recently reports said state government would approach world bank loan crore rebuild public infrastructure\",\n          \"billionaire investor world fourth richest person warren buffett firm berkshire hathaway saw stake airlines rise million thursday came qatar airways expressed desire buy stake american airlines buffett major investor notably buffett firm holdings four major us airlines\",\n          \"panchkula court dropped sedition attempt murder charges dera sacha sauda followers officials connection panchkula riots last year court observed merely pelting pebbles distance could considered attempt murder clashes broken conviction dera chief ram rahim rape case\"\n        ],\n        \"semantic_type\": \"\",\n        \"description\": \"\"\n      }\n    },\n    {\n      \"column\": \"decoder_input\",\n      \"properties\": {\n        \"dtype\": \"string\",\n        \"num_unique_values\": 27033,\n        \"samples\": [\n          \"sostoken we are broken emotionally padmavati designers on vandalism\",\n          \"sostoken rare white snake found in australia\",\n          \"sostoken bhu vice chancellor goes on indefinite leave\"\n        ],\n        \"semantic_type\": \"\",\n        \"description\": \"\"\n      }\n    },\n    {\n      \"column\": \"decoder_target\",\n      \"properties\": {\n        \"dtype\": \"string\",\n        \"num_unique_values\": 27033,\n        \"samples\": [\n          \"we are broken emotionally padmavati designers on vandalism eostoken\",\n          \"rare white snake found in australia eostoken\",\n          \"bhu vice chancellor goes on indefinite leave eostoken\"\n        ],\n        \"semantic_type\": \"\",\n        \"description\": \"\"\n      }\n    }\n  ]\n}"
            }
          },
          "metadata": {},
          "execution_count": 25
        }
      ]
    },
    {
      "cell_type": "code",
      "source": [
        "encoder_input = np.array(data['text']) # 인코더의 입력\n",
        "decoder_input = np.array(data['decoder_input']) # 디코더의 입력\n",
        "decoder_target = np.array(data['decoder_target']) # 디코더의 레이블"
      ],
      "metadata": {
        "id": "hI9781-AaEvX",
        "colab": {
          "base_uri": "https://localhost:8080/"
        },
        "outputId": "d3458daa-d205-4543-eeb7-4954c4ed1cf0"
      },
      "execution_count": null,
      "outputs": [
        {
          "output_type": "stream",
          "name": "stdout",
          "text": [
            "=3\n"
          ]
        }
      ]
    },
    {
      "cell_type": "code",
      "source": [
        "indices = np.arange(encoder_input.shape[0])\n",
        "np.random.shuffle(indices)\n",
        "print(indices)"
      ],
      "metadata": {
        "id": "BKpBIQx1aEyK",
        "colab": {
          "base_uri": "https://localhost:8080/"
        },
        "outputId": "a5320c07-87d0-4260-b8a0-f2ba249d8e49"
      },
      "execution_count": null,
      "outputs": [
        {
          "output_type": "stream",
          "name": "stdout",
          "text": [
            "[11358 19306 13908 ... 18664 17426  6344]\n"
          ]
        }
      ]
    },
    {
      "cell_type": "code",
      "source": [
        "encoder_input = encoder_input[indices]\n",
        "decoder_input = decoder_input[indices]\n",
        "decoder_target = decoder_target[indices]"
      ],
      "metadata": {
        "id": "DBq8Xbx2aE0u"
      },
      "execution_count": null,
      "outputs": []
    },
    {
      "cell_type": "code",
      "source": [
        "n_of_val = int(len(encoder_input)*0.2)\n",
        "print('테스트 데이터의 수 :', n_of_val)"
      ],
      "metadata": {
        "id": "Si21og7xaZAn",
        "colab": {
          "base_uri": "https://localhost:8080/"
        },
        "outputId": "67440894-8afa-4595-dae0-73f887283094"
      },
      "execution_count": null,
      "outputs": [
        {
          "output_type": "stream",
          "name": "stdout",
          "text": [
            "테스트 데이터의 수 : 5421\n"
          ]
        }
      ]
    },
    {
      "cell_type": "code",
      "source": [
        "encoder_input_train = encoder_input[:-n_of_val]\n",
        "decoder_input_train = decoder_input[:-n_of_val]\n",
        "decoder_target_train = decoder_target[:-n_of_val]\n",
        "\n",
        "encoder_input_test = encoder_input[-n_of_val:]\n",
        "decoder_input_test = decoder_input[-n_of_val:]\n",
        "decoder_target_test = decoder_target[-n_of_val:]\n",
        "\n",
        "print('훈련 데이터의 개수 :', len(encoder_input_train))\n",
        "print('훈련 레이블의 개수 :', len(decoder_input_train))\n",
        "print('테스트 데이터의 개수 :', len(encoder_input_test))\n",
        "print('테스트 레이블의 개수 :', len(decoder_input_test))"
      ],
      "metadata": {
        "id": "Q6EK6zXMaU8h",
        "colab": {
          "base_uri": "https://localhost:8080/"
        },
        "outputId": "5d4be41c-7e3e-4c88-d2b1-a7cbb8c3efba"
      },
      "execution_count": null,
      "outputs": [
        {
          "output_type": "stream",
          "name": "stdout",
          "text": [
            "훈련 데이터의 개수 : 21684\n",
            "훈련 레이블의 개수 : 21684\n",
            "테스트 데이터의 개수 : 5421\n",
            "테스트 레이블의 개수 : 5421\n"
          ]
        }
      ]
    },
    {
      "cell_type": "markdown",
      "source": [
        "# 정수 인코딩"
      ],
      "metadata": {
        "id": "M-5bIeBEacnl"
      }
    },
    {
      "cell_type": "markdown",
      "source": [
        "## 단어 집합 만들기 및 정수 인코딩"
      ],
      "metadata": {
        "id": "GC0fTsmAa5Ap"
      }
    },
    {
      "cell_type": "code",
      "source": [
        "def src_tokenizer(text): # 토크나이저 정의\n",
        "    text = text.lower()  # 소문자로 변환\n",
        "    text = re.sub(r\"[^a-zA-Z0-9]+\", \" \", text)  # 특수문자 제거\n",
        "    return text.split()  # 공백 기준 토큰화\n",
        "\n",
        "def build_vocab(texts):\n",
        "    vocab = {\"<PAD>\": 0, \"<UNK>\": 1}  # 패딩과 UNK 토큰 추가\n",
        "    word_counter = Counter()\n",
        "\n",
        "    for text in texts:\n",
        "        word_counter.update(src_tokenizer(text))  # 단어 빈도수 계산\n",
        "\n",
        "    # 단어 집합 생성 (빈도가 높은 순서대로)\n",
        "    for word, _ in word_counter.most_common():\n",
        "        if word not in vocab:\n",
        "            vocab[word] = len(vocab)\n",
        "\n",
        "    return vocab\n",
        "\n",
        "src_vocab = build_vocab(encoder_input_train) # 입력된 데이터로부터 단어 집합 생성"
      ],
      "metadata": {
        "id": "030PjuR_aVAN"
      },
      "execution_count": null,
      "outputs": []
    },
    {
      "cell_type": "code",
      "source": [
        "threshold = 7\n",
        "\n",
        "# 전처리된 데이터 사용\n",
        "text_data = data['text'].tolist()\n",
        "summary_data = data['headlines'].tolist()\n",
        "# 단어 빈도수 계산\n",
        "word_counter = Counter()\n",
        "for text in text_data:\n",
        "    word_counter.update(text.split())\n",
        "\n",
        "total_cnt = len(word_counter)  # 전체 단어 개수\n",
        "total_freq = sum(word_counter.values())  # 전체 단어 등장 횟수\n",
        "rare_cnt = sum(1 for count in word_counter.values() if count < threshold)  # 희귀 단어 개수\n",
        "rare_freq = sum(count for count in word_counter.values() if count < threshold)  # 희귀 단어 등장 횟수\n",
        "\n",
        "# 희귀 단어를 제외한 단어 사전 구축\n",
        "vocab = {\"<PAD>\": 0, \"<UNK>\": 1}  # 패딩 및 미등록 단어 추가\n",
        "word_index = {word: idx + 2 for idx, (word, count) in enumerate(word_counter.items()) if count >= threshold}\n",
        "\n",
        "print('단어 집합(vocabulary)의 크기 :', total_cnt)\n",
        "print('등장 빈도가 %s번 이하인 희귀 단어의 수: %s'%(threshold - 1, rare_cnt))\n",
        "print('단어 집합에서 희귀 단어를 제외시킬 경우의 단어 집합의 크기 %s'%(total_cnt - rare_cnt))\n",
        "print(\"단어 집합에서 희귀 단어의 비율:\", (rare_cnt / total_cnt)*100)\n",
        "print(\"전체 등장 빈도에서 희귀 단어 등장 빈도 비율:\", (rare_freq / total_freq)*100)"
      ],
      "metadata": {
        "id": "JNDFS4iSaVC9",
        "colab": {
          "base_uri": "https://localhost:8080/"
        },
        "outputId": "174fbbb9-fa04-48d7-c7f5-ab5c6e03f0d4"
      },
      "execution_count": null,
      "outputs": [
        {
          "output_type": "stream",
          "name": "stdout",
          "text": [
            "단어 집합(vocabulary)의 크기 : 46727\n",
            "등장 빈도가 6번 이하인 희귀 단어의 수: 33385\n",
            "단어 집합에서 희귀 단어를 제외시킬 경우의 단어 집합의 크기 13342\n",
            "단어 집합에서 희귀 단어의 비율: 71.44691505981552\n",
            "전체 등장 빈도에서 희귀 단어 등장 빈도 비율: 7.169562094383336\n"
          ]
        }
      ]
    },
    {
      "cell_type": "code",
      "source": [
        "src_vocab_size = 8000\n",
        "\n",
        "def build_limited_vocab(texts, vocab_size):\n",
        "    vocab = {\"<PAD>\": 0, \"<UNK>\": 1}  # 패딩과 UNK 토큰 추가\n",
        "    word_counter = Counter()\n",
        "\n",
        "    for text in texts:\n",
        "        word_counter.update(src_tokenizer(text))  # 단어 빈도수 계산\n",
        "\n",
        "    # 빈도가 높은 상위 vocab_size - 2개 단어만 선택 (PAD, UNK 포함)\n",
        "    for word, _ in word_counter.most_common(vocab_size - 2):\n",
        "        vocab[word] = len(vocab)\n",
        "\n",
        "    return vocab\n",
        "\n",
        "src_vocab = build_limited_vocab(encoder_input_train, src_vocab_size)"
      ],
      "metadata": {
        "id": "DRy2kUyaang5"
      },
      "execution_count": null,
      "outputs": []
    },
    {
      "cell_type": "code",
      "source": [
        "def text_to_sequence(texts, vocab):\n",
        "    sequences = []\n",
        "    for text in texts:\n",
        "        sequence = [vocab.get(word, vocab[\"<UNK>\"]) for word in src_tokenizer(text)]\n",
        "        sequences.append(sequence)\n",
        "    return sequences\n",
        "\n",
        "# 텍스트 데이터 정수 시퀀스로 변환\n",
        "encoder_input_train_seq = text_to_sequence(encoder_input_train, src_vocab)\n",
        "encoder_input_test_seq = text_to_sequence(encoder_input_test, src_vocab)\n",
        "\n",
        "# 잘 진행되었는지 샘플 출력\n",
        "print(encoder_input_train_seq[:3])\n",
        "print(encoder_input_test_seq[:3])"
      ],
      "metadata": {
        "id": "GKGy3WutaVGY",
        "colab": {
          "base_uri": "https://localhost:8080/"
        },
        "outputId": "c0f7f9d0-9469-4419-cf58-197520fb8f19"
      },
      "execution_count": null,
      "outputs": [
        {
          "output_type": "stream",
          "name": "stdout",
          "text": [
            "[[4, 2424, 968, 1, 247, 127, 1430, 31, 32, 2096, 20, 920, 194, 2004, 1, 1, 4405, 247, 140, 1635, 263, 4, 2424, 968, 7439, 2538, 3775, 4773, 2, 91, 3692, 504, 1838, 1, 351, 231, 733], [610, 635, 1362, 51, 1161, 877, 3693, 75, 24, 238, 1696, 1979, 1598, 195, 2425, 2389, 1928, 4279, 1696, 5, 1979, 1598, 850, 688, 24, 2131, 1414, 1, 1431, 68, 1928, 216, 688, 2131, 281, 79, 1193, 24, 1140], [1, 194, 508, 3971, 1, 12, 1, 1298, 4058, 2504, 537, 3131, 537, 1839, 4621, 5595, 1432, 2617, 1070, 64, 76, 3338, 53, 1, 6480, 1, 2875, 1, 1636, 1, 1, 12, 1, 4911, 1, 315, 5762, 2618]]\n",
            "[[1, 3, 26, 466, 2797, 1596, 1, 151, 81, 1090, 1, 69, 7683, 1, 1, 462, 486, 6432, 151, 3526, 1, 2067, 95, 1358, 13, 2067, 5, 411, 98, 466, 1947, 4453, 1, 89, 197, 905], [2262, 65, 5884, 1, 44, 2, 4864, 1, 7269, 3385, 4740, 1724, 3328, 1, 31, 5, 95, 3500, 1, 210, 1, 1, 1136, 1, 158, 1313, 3080, 528, 1, 2214, 1, 1748, 5937, 2044, 1313], [2883, 73, 655, 1911, 554, 1, 791, 463, 219, 32, 747, 414, 73, 1, 4964, 351, 2161, 521, 216, 713, 3429, 7159, 5356, 1066, 950, 981, 109, 4090, 296, 543, 1]]\n"
          ]
        }
      ]
    },
    {
      "cell_type": "code",
      "source": [
        "def tar_tokenizer(text):\n",
        "    text = text.lower()  # 소문자로 변환\n",
        "    text = re.sub(r\"[^a-zA-Z0-9]+\", \" \", text)  # 특수문자 제거\n",
        "    return text.split()  # 공백 기준 토큰화\n",
        "\n",
        "tar_vocab = build_vocab(decoder_input_train)"
      ],
      "metadata": {
        "id": "1mLEhNQhaVJ-"
      },
      "execution_count": null,
      "outputs": []
    },
    {
      "cell_type": "code",
      "source": [
        "threshold = 6\n",
        "\n",
        "word_counter = Counter()\n",
        "for text in decoder_input_train:\n",
        "    word_counter.update(tar_tokenizer(text))  # 각 문장의 단어 빈도 계산\n",
        "\n",
        "# 전체 단어 개수 및 등장 빈도 계산\n",
        "total_cnt = len(word_counter)  # 전체 단어 개수\n",
        "total_freq = sum(word_counter.values())  # 전체 단어 등장 횟수\n",
        "rare_cnt = sum(1 for count in word_counter.values() if count < threshold)  # 희귀 단어 개수\n",
        "rare_freq = sum(count for count in word_counter.values() if count < threshold)  # 희귀 단어 등장 횟수\n",
        "\n",
        "print('단어 집합(vocabulary)의 크기 :', total_cnt)\n",
        "print('등장 빈도가 %s번 이하인 희귀 단어의 수: %s'%(threshold - 1, rare_cnt))\n",
        "print('단어 집합에서 희귀 단어를 제외시킬 경우의 단어 집합의 크기 %s'%(total_cnt - rare_cnt))\n",
        "print(\"단어 집합에서 희귀 단어의 비율:\", (rare_cnt / total_cnt)*100)\n",
        "print(\"전체 등장 빈도에서 희귀 단어 등장 빈도 비율:\", (rare_freq / total_freq)*100)"
      ],
      "metadata": {
        "id": "MuAVvPNSauZ5",
        "colab": {
          "base_uri": "https://localhost:8080/"
        },
        "outputId": "12df5280-a7bd-4f38-ea05-055f7f45e39d"
      },
      "execution_count": null,
      "outputs": [
        {
          "output_type": "stream",
          "name": "stdout",
          "text": [
            "단어 집합(vocabulary)의 크기 : 18956\n",
            "등장 빈도가 5번 이하인 희귀 단어의 수: 14321\n",
            "단어 집합에서 희귀 단어를 제외시킬 경우의 단어 집합의 크기 4635\n",
            "단어 집합에서 희귀 단어의 비율: 75.54863895336568\n",
            "전체 등장 빈도에서 희귀 단어 등장 빈도 비율: 14.187112863003781\n"
          ]
        }
      ]
    },
    {
      "cell_type": "code",
      "source": [
        "tar_vocab_size = 2000\n",
        "tar_vocab = build_limited_vocab(decoder_input_train + decoder_target_train, tar_vocab_size)\n",
        "\n",
        "# 텍스트 시퀀스를 정수 시퀀스로 변환\n",
        "decoder_input_train_seq = text_to_sequence(decoder_input_train, tar_vocab)\n",
        "decoder_target_train_seq = text_to_sequence(decoder_target_train, tar_vocab)\n",
        "decoder_input_test_seq = text_to_sequence(decoder_input_test, tar_vocab)\n",
        "decoder_target_test_seq = text_to_sequence(decoder_target_test, tar_vocab)\n",
        "\n",
        "# 잘 변환되었는지 확인\n",
        "print('input')\n",
        "print('input ',decoder_input_train_seq[:5])\n",
        "print('target')\n",
        "print('decoder ',decoder_target_train_seq[:5])"
      ],
      "metadata": {
        "id": "IuIiuOqvauc4",
        "colab": {
          "base_uri": "https://localhost:8080/"
        },
        "outputId": "343cc0b7-d917-4c68-e87b-1273d1f2743d"
      },
      "execution_count": null,
      "outputs": [
        {
          "output_type": "stream",
          "name": "stdout",
          "text": [
            "input\n",
            "input  [[2, 354, 886, 4, 13, 1059, 17, 70, 1], [2, 1, 729, 171, 11, 1, 868, 1633, 1], [2, 136, 1, 1, 5, 187, 1254, 1], [2, 30, 4, 1634, 1, 1, 4, 1], [2, 1, 921, 1, 1, 716, 6, 1105]]\n",
            "target\n",
            "decoder  [[354, 886, 4, 13, 1059, 17, 70, 1, 3], [1, 729, 171, 11, 1, 868, 1633, 1, 3], [136, 1, 1, 5, 187, 1254, 1, 3], [30, 4, 1634, 1, 1, 4, 1, 3], [1, 921, 1, 1, 716, 6, 1105, 3]]\n"
          ]
        }
      ]
    },
    {
      "cell_type": "code",
      "source": [
        "drop_train = [index for index, sentence in enumerate(decoder_input_train) if len(sentence) == 1]\n",
        "drop_test = [index for index, sentence in enumerate(decoder_input_test) if len(sentence) == 1]\n",
        "\n",
        "print('삭제할 훈련 데이터의 개수 :', len(drop_train))\n",
        "print('삭제할 테스트 데이터의 개수 :', len(drop_test))\n",
        "\n",
        "encoder_input_train = [sentence for index, sentence in enumerate(encoder_input_train) if index not in drop_train]\n",
        "decoder_input_train = [sentence for index, sentence in enumerate(decoder_input_train) if index not in drop_train]\n",
        "decoder_target_train = [sentence for index, sentence in enumerate(decoder_target_train) if index not in drop_train]\n",
        "\n",
        "encoder_input_test = [sentence for index, sentence in enumerate(encoder_input_test) if index not in drop_test]\n",
        "decoder_input_test = [sentence for index, sentence in enumerate(decoder_input_test) if index not in drop_test]\n",
        "decoder_target_test = [sentence for index, sentence in enumerate(decoder_target_test) if index not in drop_test]\n",
        "\n",
        "print('훈련 데이터의 개수 :', len(encoder_input_train))\n",
        "print('훈련 레이블의 개수 :', len(decoder_input_train))\n",
        "print('테스트 데이터의 개수 :', len(encoder_input_test))\n",
        "print('테스트 레이블의 개수 :', len(decoder_input_test))"
      ],
      "metadata": {
        "id": "rdgQQOUCauig",
        "colab": {
          "base_uri": "https://localhost:8080/"
        },
        "outputId": "20322e69-ed9d-4b97-dae7-f03460a116ff"
      },
      "execution_count": null,
      "outputs": [
        {
          "output_type": "stream",
          "name": "stdout",
          "text": [
            "삭제할 훈련 데이터의 개수 : 0\n",
            "삭제할 테스트 데이터의 개수 : 0\n",
            "훈련 데이터의 개수 : 21684\n",
            "훈련 레이블의 개수 : 21684\n",
            "테스트 데이터의 개수 : 5421\n",
            "테스트 레이블의 개수 : 5421\n"
          ]
        }
      ]
    },
    {
      "cell_type": "markdown",
      "source": [
        "## 패딩하기"
      ],
      "metadata": {
        "id": "QhaMNX2ha94Z"
      }
    },
    {
      "cell_type": "code",
      "source": [
        "from torch.nn.utils.rnn import pad_sequence\n",
        "\n",
        "# 텐서 변환 함수 (리스트 → PyTorch 텐서)\n",
        "def convert_to_tensor(sequences):\n",
        "    return [torch.tensor(seq, dtype=torch.long) for seq in sequences]\n",
        "\n",
        "# 패딩 적용 함수 (PyTorch `pad_sequence()` 활용)\n",
        "def pad_sequences_pytorch(sequences, maxlen, padding_value=0):\n",
        "    sequences = convert_to_tensor(sequences)  # 리스트를 텐서로 변환\n",
        "    padded_seqs = pad_sequence(sequences, batch_first=True, padding_value=padding_value)  # 패딩 적용\n",
        "    return padded_seqs[:, :maxlen]  # maxlen 길이로 자르기 (최대 길이 초과 방지)\n",
        "\n",
        "# 패딩 적용\n",
        "encoder_input_train = pad_sequences_pytorch(encoder_input_train_seq, maxlen=text_max_len)\n",
        "encoder_input_test = pad_sequences_pytorch(encoder_input_test_seq, maxlen=text_max_len)\n",
        "decoder_input_train = pad_sequences_pytorch(decoder_input_train_seq, maxlen=summary_max_len)\n",
        "decoder_target_train = pad_sequences_pytorch(decoder_target_train_seq, maxlen=summary_max_len)\n",
        "decoder_input_test = pad_sequences_pytorch(decoder_input_test_seq, maxlen=summary_max_len)\n",
        "decoder_target_test = pad_sequences_pytorch(decoder_target_test_seq, maxlen=summary_max_len)"
      ],
      "metadata": {
        "id": "qvzPNT_PaulS"
      },
      "execution_count": null,
      "outputs": []
    },
    {
      "cell_type": "markdown",
      "source": [
        "# 모델 설계하기"
      ],
      "metadata": {
        "id": "HtmgypnobC4x"
      }
    },
    {
      "cell_type": "code",
      "source": [
        "import torch.nn as nn\n",
        "import torch.nn.functional as F\n",
        "\n",
        "# 인코더 설계 시작\n",
        "embedding_dim = 128\n",
        "hidden_size = 256\n",
        "src_vocab_size = len(src_vocab)  # 단어 집합 크기\n",
        "\n",
        "# 인코더\n",
        "class Encoder(nn.Module):\n",
        "    def __init__(self, vocab_size, embedding_dim, hidden_size, num_layers=3, dropout=0.4):\n",
        "        super(Encoder, self).__init__()\n",
        "        self.embedding = nn.Embedding(vocab_size, embedding_dim)\n",
        "        self.lstm = nn.LSTM(\n",
        "            embedding_dim, hidden_size, num_layers=num_layers,\n",
        "            dropout=dropout, batch_first=True\n",
        "        )\n",
        "\n",
        "    def forward(self, x): # 인코더의 임베딩 층\n",
        "        embedded = self.embedding(x)\n",
        "        output, (hidden, cell) = self.lstm(embedded)  # LSTM 실행\n",
        "        return output, hidden, cell\n",
        "\n",
        "# 인코더 모델 생성\n",
        "encoder = Encoder(src_vocab_size, embedding_dim, hidden_size, num_layers=3, dropout=0.4)"
      ],
      "metadata": {
        "id": "yFw4UVuSauoS"
      },
      "execution_count": null,
      "outputs": []
    },
    {
      "cell_type": "code",
      "source": [
        "# 디코더 설계\n",
        "class Decoder(nn.Module):\n",
        "    def __init__(self, vocab_size, embedding_dim, hidden_size, dropout=0.4, num_layers=3):\n",
        "        super(Decoder, self).__init__()\n",
        "        self.embedding = nn.Embedding(vocab_size, embedding_dim)\n",
        "        self.lstm = nn.LSTM(\n",
        "            embedding_dim, hidden_size, num_layers=num_layers, dropout=dropout,\n",
        "            batch_first=True\n",
        "        )\n",
        "\n",
        "    def forward(self, x, hidden, cell): # 디코더의 임베딩 층\n",
        "        embedded = self.embedding(x)\n",
        "        output, (hidden, cell) = self.lstm(embedded, (hidden, cell))  # 초기 상태를 인코더에서 전달받음\n",
        "        return output, hidden, cell\n",
        "\n",
        "# 디코더 모델 생성\n",
        "decoder = Decoder(tar_vocab_size, embedding_dim, hidden_size, num_layers=3, dropout=0.4)"
      ],
      "metadata": {
        "id": "wncjJv9gaurP"
      },
      "execution_count": null,
      "outputs": []
    },
    {
      "cell_type": "code",
      "source": [
        "# 디코더의 출력층\n",
        "class Seq2Seq(nn.Module):\n",
        "    def __init__(self, encoder, decoder, vocab_size):\n",
        "        super(Seq2Seq, self).__init__()\n",
        "        self.encoder = encoder\n",
        "        self.decoder = decoder\n",
        "        self.softmax_layer = nn.Linear(hidden_size, vocab_size)  # 출력층 정의\n",
        "\n",
        "    def forward(self, encoder_input, decoder_input):\n",
        "        # 인코더 실행\n",
        "        encoder_output, hidden, cell = self.encoder(encoder_input)\n",
        "\n",
        "        # 디코더 실행\n",
        "        decoder_output, _, _ = self.decoder(decoder_input, hidden, cell)\n",
        "\n",
        "        # 출력층 적용 (Softmax는 Loss 내부에서 적용되므로 생략 가능)\n",
        "        output = self.softmax_layer(decoder_output)\n",
        "        return output\n",
        "\n",
        "# 모델 정의\n",
        "model = Seq2Seq(encoder, decoder, tar_vocab_size)\n",
        "print(model)"
      ],
      "metadata": {
        "id": "6a0o2INIauuH",
        "colab": {
          "base_uri": "https://localhost:8080/"
        },
        "outputId": "ed22d81b-860c-4d4e-ed20-3959fb60cd19"
      },
      "execution_count": null,
      "outputs": [
        {
          "output_type": "stream",
          "name": "stdout",
          "text": [
            "Seq2Seq(\n",
            "  (encoder): Encoder(\n",
            "    (embedding): Embedding(8000, 128)\n",
            "    (lstm): LSTM(128, 256, num_layers=3, batch_first=True, dropout=0.4)\n",
            "  )\n",
            "  (decoder): Decoder(\n",
            "    (embedding): Embedding(2000, 128)\n",
            "    (lstm): LSTM(128, 256, num_layers=3, batch_first=True, dropout=0.4)\n",
            "  )\n",
            "  (softmax_layer): Linear(in_features=256, out_features=2000, bias=True)\n",
            ")\n"
          ]
        }
      ]
    },
    {
      "cell_type": "markdown",
      "source": [
        "## 어텐션 메커니즘"
      ],
      "metadata": {
        "id": "znHijiR_bm7H"
      }
    },
    {
      "cell_type": "code",
      "source": [
        "class Attention_dot(nn.Module):\n",
        "    def __init__(self, hidden_size):\n",
        "        super(Attention_dot, self).__init__()\n",
        "        self.attn = nn.Linear(hidden_size, hidden_size)  # 어텐션 가중치\n",
        "        self.v = nn.Linear(hidden_size, 1, bias=False)  # 어텐션 가중치 벡터\n",
        "\n",
        "    def forward(self, decoder_output, encoder_outputs):\n",
        "        attn_weights = torch.bmm(decoder_output, encoder_outputs.transpose(1, 2))\n",
        "        attn_weights = F.softmax(attn_weights, dim=-1)  # 어텐션 가중치 정규화\n",
        "        attn_out = torch.bmm(attn_weights, encoder_outputs)\n",
        "\n",
        "        return attn_out\n",
        "\n",
        "class Seq2SeqWithAttention(nn.Module):\n",
        "    def __init__(self, encoder, decoder, vocab_size, hidden_size):\n",
        "        super(Seq2SeqWithAttention, self).__init__()\n",
        "        self.encoder = encoder\n",
        "        self.decoder = decoder\n",
        "        self.attention = Attention_dot(hidden_size)\n",
        "        self.concat = nn.Linear(hidden_size * 2, hidden_size)  # 어텐션 결합\n",
        "        self.output_layer = nn.Linear(hidden_size, vocab_size)  # 최종 출력층\n",
        "\n",
        "    def forward(self, encoder_input, decoder_input):\n",
        "        encoder_outputs, hidden, cell = self.encoder(encoder_input)\n",
        "        decoder_outputs, _, _ = self.decoder(decoder_input, hidden, cell)\n",
        "\n",
        "        # 어텐션 적용\n",
        "        attn_out = self.attention(decoder_outputs, encoder_outputs)\n",
        "\n",
        "        # 어텐션 결과와 디코더 출력 연결\n",
        "        decoder_concat_output = torch.cat((decoder_outputs, attn_out), dim=-1)\n",
        "\n",
        "        # 어텐션 결합 후 최종 출력\n",
        "        decoder_concat_output = torch.tanh(self.concat(decoder_concat_output))\n",
        "        output = self.output_layer(decoder_concat_output)\n",
        "\n",
        "        return output\n",
        "\n",
        "# 모델 생성\n",
        "model = Seq2SeqWithAttention(encoder, decoder, tar_vocab_size, hidden_size)\n",
        "print(model)"
      ],
      "metadata": {
        "id": "xEzMO54UboW9",
        "colab": {
          "base_uri": "https://localhost:8080/"
        },
        "outputId": "7ff85e6e-6d5e-4415-c2e6-5ead7ce5f0f1"
      },
      "execution_count": null,
      "outputs": [
        {
          "output_type": "stream",
          "name": "stdout",
          "text": [
            "Seq2SeqWithAttention(\n",
            "  (encoder): Encoder(\n",
            "    (embedding): Embedding(8000, 128)\n",
            "    (lstm): LSTM(128, 256, num_layers=3, batch_first=True, dropout=0.4)\n",
            "  )\n",
            "  (decoder): Decoder(\n",
            "    (embedding): Embedding(2000, 128)\n",
            "    (lstm): LSTM(128, 256, num_layers=3, batch_first=True, dropout=0.4)\n",
            "  )\n",
            "  (attention): Attention_dot(\n",
            "    (attn): Linear(in_features=256, out_features=256, bias=True)\n",
            "    (v): Linear(in_features=256, out_features=1, bias=False)\n",
            "  )\n",
            "  (concat): Linear(in_features=512, out_features=256, bias=True)\n",
            "  (output_layer): Linear(in_features=256, out_features=2000, bias=True)\n",
            ")\n"
          ]
        }
      ]
    },
    {
      "cell_type": "markdown",
      "source": [
        "# 모델 훈련하기"
      ],
      "metadata": {
        "id": "XdHNClVAbtQH"
      }
    },
    {
      "cell_type": "code",
      "source": [
        "import torch.optim as optim\n",
        "from torch.utils.data import DataLoader, TensorDataset\n",
        "\n",
        "device = torch.device(\"cuda\" if torch.cuda.is_available() else \"cpu\")\n",
        "print(f\"Using device: {device}\")\n",
        "model.to(device)\n",
        "\n",
        "# Hyperparameters\n",
        "batch_size = 256\n",
        "epochs = 50\n",
        "learning_rate = 0.001\n",
        "patience = 2\n",
        "\n",
        "# 손실 함수 & 옵티마이저\n",
        "criterion = nn.CrossEntropyLoss(ignore_index=0)  # 패딩 토큰 무시\n",
        "optimizer = optim.AdamW(model.parameters(), lr=learning_rate)\n",
        "\n",
        "# PyTorch DataLoader 설정\n",
        "train_dataset = TensorDataset(encoder_input_train, decoder_input_train, decoder_target_train)\n",
        "test_dataset = TensorDataset(encoder_input_test, decoder_input_test, decoder_target_test)\n",
        "\n",
        "train_loader = DataLoader(train_dataset, batch_size=batch_size, shuffle=True)\n",
        "test_loader = DataLoader(test_dataset, batch_size=batch_size, shuffle=False)"
      ],
      "metadata": {
        "id": "1OGeMmiHbta8",
        "colab": {
          "base_uri": "https://localhost:8080/"
        },
        "outputId": "05e25543-e991-41a9-da85-fab5f9f9c91d"
      },
      "execution_count": null,
      "outputs": [
        {
          "output_type": "stream",
          "name": "stdout",
          "text": [
            "Using device: cuda\n"
          ]
        }
      ]
    },
    {
      "cell_type": "code",
      "source": [
        "train_losses = []\n",
        "val_losses = []\n",
        "\n",
        "# 학습 함수\n",
        "def train_model(model, train_loader, test_loader, criterion, optimizer, epochs, patience):\n",
        "    model.train()\n",
        "    best_val_loss = float('inf')\n",
        "    early_stop_counter = 0\n",
        "\n",
        "    for epoch in range(epochs):\n",
        "        total_loss = 0\n",
        "\n",
        "        for encoder_input, decoder_input, target in train_loader:\n",
        "            optimizer.zero_grad()\n",
        "\n",
        "            # 정수형 변환\n",
        "            encoder_input = encoder_input.to(device).long()\n",
        "            decoder_input = decoder_input.to(device).long()\n",
        "            target = target.to(device).long()\n",
        "\n",
        "            # 모델 실행\n",
        "            output = model(encoder_input, decoder_input)\n",
        "            output = output.view(-1, output.shape[-1])\n",
        "            target = target.view(-1)\n",
        "\n",
        "            loss = criterion(output, target)\n",
        "            loss.backward()\n",
        "            optimizer.step()\n",
        "            total_loss += loss.item()\n",
        "\n",
        "        avg_loss = total_loss / len(train_loader)\n",
        "        train_losses.append(avg_loss)\n",
        "\n",
        "        # Validation loss 계산\n",
        "        model.eval()\n",
        "        val_loss = 0\n",
        "        with torch.no_grad():\n",
        "            for encoder_input, decoder_input, target in test_loader:\n",
        "                encoder_input = encoder_input.to(device).long()\n",
        "                decoder_input = decoder_input.to(device).long()\n",
        "                target = target.to(device).long()\n",
        "\n",
        "                output = model(encoder_input, decoder_input)\n",
        "                output = output.view(-1, output.shape[-1])\n",
        "                target = target.view(-1)\n",
        "                loss = criterion(output, target)\n",
        "\n",
        "                val_loss += loss.item()\n",
        "\n",
        "        val_loss /= len(test_loader)\n",
        "        val_losses.append(val_loss)\n",
        "        print(f\"Epoch {epoch+1}/{epochs} | Train Loss: {avg_loss:.4f} | Val Loss: {val_loss:.4f}\")\n",
        "\n",
        "        # Early Stopping 조건\n",
        "        if val_loss < best_val_loss:\n",
        "            best_val_loss = val_loss\n",
        "            early_stop_counter = 0\n",
        "        else:\n",
        "            early_stop_counter += 1\n",
        "\n",
        "        if early_stop_counter >= patience:\n",
        "            print(f\"Early stopping triggered at epoch {epoch+1}\")\n",
        "            break\n",
        "\n",
        "        model.train()"
      ],
      "metadata": {
        "id": "NlsYdlrLbtge"
      },
      "execution_count": null,
      "outputs": []
    },
    {
      "cell_type": "code",
      "source": [
        "%%time\n",
        "# 30분 이상 시간이 걸릴 수 있습니다. GPU 환경에서 학습하는 것을 권장합니다.\n",
        "# 학습 실행\n",
        "train_model(model, train_loader, test_loader, criterion, optimizer, epochs=epochs, patience=patience)"
      ],
      "metadata": {
        "id": "ucIEJ4DkbtkS",
        "colab": {
          "base_uri": "https://localhost:8080/"
        },
        "outputId": "15766aa5-a59f-4cb8-c1ce-eeef0f21f1ac"
      },
      "execution_count": null,
      "outputs": [
        {
          "output_type": "stream",
          "name": "stdout",
          "text": [
            "Epoch 1/50 | Train Loss: 5.3965 | Val Loss: 5.0635\n",
            "Epoch 2/50 | Train Loss: 5.1019 | Val Loss: 5.0002\n",
            "Epoch 3/50 | Train Loss: 5.0456 | Val Loss: 4.9394\n",
            "Epoch 4/50 | Train Loss: 4.9429 | Val Loss: 4.8045\n",
            "Epoch 5/50 | Train Loss: 4.7945 | Val Loss: 4.6687\n",
            "Epoch 6/50 | Train Loss: 4.6538 | Val Loss: 4.5701\n",
            "Epoch 7/50 | Train Loss: 4.5330 | Val Loss: 4.4923\n",
            "Epoch 8/50 | Train Loss: 4.4069 | Val Loss: 4.3816\n",
            "Epoch 9/50 | Train Loss: 4.2742 | Val Loss: 4.2992\n",
            "Epoch 10/50 | Train Loss: 4.1583 | Val Loss: 4.2251\n",
            "Epoch 11/50 | Train Loss: 4.0449 | Val Loss: 4.1569\n",
            "Epoch 12/50 | Train Loss: 3.9237 | Val Loss: 4.0838\n",
            "Epoch 13/50 | Train Loss: 3.8061 | Val Loss: 4.0393\n",
            "Epoch 14/50 | Train Loss: 3.6884 | Val Loss: 3.9917\n",
            "Epoch 15/50 | Train Loss: 3.5781 | Val Loss: 3.9598\n",
            "Epoch 16/50 | Train Loss: 3.4667 | Val Loss: 3.9513\n",
            "Epoch 17/50 | Train Loss: 3.3640 | Val Loss: 3.9352\n",
            "Epoch 18/50 | Train Loss: 3.2620 | Val Loss: 3.9295\n",
            "Epoch 19/50 | Train Loss: 3.1653 | Val Loss: 3.9332\n",
            "Epoch 20/50 | Train Loss: 3.0743 | Val Loss: 3.9462\n",
            "Early stopping triggered at epoch 20\n",
            "CPU times: user 1min 36s, sys: 392 ms, total: 1min 36s\n",
            "Wall time: 1min 41s\n"
          ]
        }
      ]
    },
    {
      "cell_type": "code",
      "source": [
        "plt.plot(range(len(train_losses)), train_losses, label='Train Loss')\n",
        "plt.plot(range(len(val_losses)), val_losses, label='Validation Loss')\n",
        "plt.legend()\n",
        "plt.xlabel(\"Epochs\")\n",
        "plt.ylabel(\"Loss\")\n",
        "plt.title(\"Training and Validation Loss\")\n",
        "plt.show()"
      ],
      "metadata": {
        "colab": {
          "base_uri": "https://localhost:8080/",
          "height": 472
        },
        "id": "9fN1WZj41TzK",
        "outputId": "15d238a6-f70e-48cd-be89-7ccbffe8f848"
      },
      "execution_count": null,
      "outputs": [
        {
          "output_type": "display_data",
          "data": {
            "text/plain": [
              "<Figure size 640x480 with 1 Axes>"
            ],
            "image/png": "[encoded data removed]"
          },
          "metadata": {}
        }
      ]
    },
    {
      "cell_type": "markdown",
      "source": [
        "# 인퍼런스 모델 구현하기"
      ],
      "metadata": {
        "id": "BH-lAoPUcqoY"
      }
    },
    {
      "cell_type": "code",
      "source": [
        "src_index_to_word = {idx: word for word, idx in src_vocab.items()} # 원문 단어 집합에서 정수 -> 단어를 얻음\n",
        "tar_word_to_index = tar_vocab # 요약 단어 집합에서 단어 -> 정수를 얻음\n",
        "tar_index_to_word = {idx: word for word, idx in tar_vocab.items()} # 요약 단어 집합에서 정수 -> 단어를 얻음"
      ],
      "metadata": {
        "id": "HAaOi8Tkbtn2",
        "colab": {
          "base_uri": "https://localhost:8080/"
        },
        "outputId": "11b451e0-e23e-4cd5-bbe8-804032a0ab0f"
      },
      "execution_count": null,
      "outputs": [
        {
          "output_type": "stream",
          "name": "stdout",
          "text": [
            "=3\n"
          ]
        }
      ]
    },
    {
      "cell_type": "code",
      "source": [
        "device = torch.device(\"cuda\" if torch.cuda.is_available() else \"cpu\")\n",
        "decoder.to(device)\n",
        "\n",
        "# 인코더 설계\n",
        "def encode_input(encoder, input_seq):\n",
        "    encoder_outputs, hidden, cell = encoder(input_seq)\n",
        "    return encoder_outputs, hidden, cell\n",
        "\n",
        "# 이전 시점의 상태들을 저장하는 텐서\n",
        "num_layers = 3  # 디코더 LSTM 레이어 개수 (설정에 맞춰 조정)\n",
        "batch_size = 1\n",
        "\n",
        "decoder_state_input_h = torch.zeros((num_layers, batch_size, hidden_size), dtype=torch.float, device=device)\n",
        "decoder_state_input_c = torch.zeros((num_layers, batch_size, hidden_size), dtype=torch.float, device=device)\n",
        "decoder_input = torch.zeros((batch_size, 1), dtype=torch.long, device=device)\n",
        "\n",
        "dec_emb2 = decoder.embedding(decoder_input)\n",
        "\n",
        "# 문장의 다음 단어를 예측하기 위해서 초기 상태(initial_state)를 이전 시점의 상태로 사용. 이는 뒤의 함수 decode_sequence()에 구현\n",
        "# 훈련 과정에서와 달리 LSTM의 리턴하는 은닉 상태와 셀 상태인 state_h와 state_c를 버리지 않음.\n",
        "decoder_outputs2, state_h2, state_c2 = decoder(decoder_input, decoder_state_input_h, decoder_state_input_c)"
      ],
      "metadata": {
        "id": "mOCGin-Dbtrq",
        "colab": {
          "base_uri": "https://localhost:8080/"
        },
        "outputId": "5b56bb58-06dc-404b-bd90-ee2cec641a51"
      },
      "execution_count": null,
      "outputs": [
        {
          "output_type": "stream",
          "name": "stdout",
          "text": [
            "=3\n"
          ]
        }
      ]
    },
    {
      "cell_type": "code",
      "source": [
        "class DecoderWithAttention(nn.Module):\n",
        "    def __init__(self, decoder, attention, hidden_size, vocab_size):\n",
        "        super(DecoderWithAttention, self).__init__()\n",
        "        self.decoder = decoder  # 기존 디코더\n",
        "        self.attention = attention  # 어텐션 레이어\n",
        "        self.concat = nn.Linear(hidden_size * 2, hidden_size)  # 어텐션 결합 레이어\n",
        "        self.output_layer = nn.Linear(hidden_size, vocab_size)  # 최종 출력층\n",
        "        self.softmax = nn.Softmax(dim=-1)  # 소프트맥스\n",
        "\n",
        "    def forward(self, decoder_inputs, decoder_hidden_state, decoder_state_h, decoder_state_c):\n",
        "        # 디코더 실행\n",
        "        decoder_outputs, state_h, state_c = self.decoder(decoder_inputs, decoder_state_h, decoder_state_c)\n",
        "\n",
        "        # 어텐션 적용\n",
        "        attn_out = self.attention(decoder_outputs, decoder_hidden_state)\n",
        "\n",
        "        # 어텐션과 디코더 출력 결합\n",
        "        decoder_concat_output = torch.cat((decoder_outputs, attn_out), dim=-1)\n",
        "        decoder_concat_output = torch.tanh(self.concat(decoder_concat_output))\n",
        "\n",
        "        # 최종 출력층 적용\n",
        "        decoder_outputs2 = self.softmax(self.output_layer(decoder_concat_output))\n",
        "\n",
        "        return decoder_outputs2, state_h, state_c\n",
        "\n",
        "# 기존 Attention 클래스 사용\n",
        "attention_layer = Attention_dot(hidden_size)\n",
        "\n",
        "# 디코더 모델 생성\n",
        "decoder_model = DecoderWithAttention(decoder, attention_layer, hidden_size, tar_vocab_size)"
      ],
      "metadata": {
        "id": "V_o8r5z1btw0",
        "colab": {
          "base_uri": "https://localhost:8080/"
        },
        "outputId": "f3164cdc-c90e-4110-906a-8bb331ba2521"
      },
      "execution_count": null,
      "outputs": [
        {
          "output_type": "stream",
          "name": "stdout",
          "text": [
            "=3\n"
          ]
        }
      ]
    },
    {
      "cell_type": "code",
      "source": [
        "def decode_sequence(input_seq, encoder, decoder, tar_word_to_index, tar_index_to_word, text_max_len, summary_max_len, device):\n",
        "    # 입력을 PyTorch Tensor로 변환\n",
        "    input_seq = torch.tensor(input_seq, dtype=torch.long, device=device)\n",
        "\n",
        "    # 인코더 실행하여 초기 상태(hidden, cell) 얻기\n",
        "    with torch.no_grad():\n",
        "        e_out, e_h, e_c = encoder(input_seq)\n",
        "\n",
        "    e_out = e_out.repeat(1, text_max_len, 1)  # 차원 조정 (np.tile 대신 repeat 사용)\n",
        "\n",
        "    # <SOS>에 해당하는 토큰 생성\n",
        "    target_seq = torch.zeros((1, 1), dtype=torch.long, device=device)\n",
        "    target_seq[0, 0] = tar_word_to_index['sostoken']\n",
        "\n",
        "    stop_condition = False\n",
        "    decoded_sentence = ''\n",
        "\n",
        "    while not stop_condition:\n",
        "        # 디코더 실행\n",
        "        with torch.no_grad():\n",
        "            output_tokens, h, c = decoder(target_seq, e_h, e_c)\n",
        "\n",
        "        # 가장 높은 확률을 가진 단어 선택\n",
        "        sampled_token_index = torch.argmax(output_tokens[0, -1, :]).item()\n",
        "        sampled_token = tar_index_to_word[sampled_token_index]\n",
        "\n",
        "        if sampled_token != 'eostoken':\n",
        "            decoded_sentence += ' ' + sampled_token\n",
        "\n",
        "        # 종료 조건: <eos>에 도달하거나 최대 길이를 초과하면 중단\n",
        "        if sampled_token == 'eostoken' or len(decoded_sentence.split()) >= (summary_max_len - 1):\n",
        "            stop_condition = True\n",
        "\n",
        "        # 길이가 1인 타겟 시퀀스를 업데이트\n",
        "        target_seq = torch.zeros((1, 1), dtype=torch.long, device=device)\n",
        "        target_seq[0, 0] = sampled_token_index\n",
        "\n",
        "        # 상태 업데이트\n",
        "        e_h, e_c = h, c\n",
        "\n",
        "    return decoded_sentence"
      ],
      "metadata": {
        "id": "pd9yEpZQbt2i",
        "colab": {
          "base_uri": "https://localhost:8080/"
        },
        "outputId": "1a030108-ccc1-40b6-b5bd-a05a929d20fb"
      },
      "execution_count": null,
      "outputs": [
        {
          "output_type": "stream",
          "name": "stdout",
          "text": [
            "=3\n"
          ]
        }
      ]
    },
    {
      "cell_type": "markdown",
      "source": [
        "# 모델 테스트하기"
      ],
      "metadata": {
        "id": "Li_ixZrydcVi"
      }
    },
    {
      "cell_type": "code",
      "source": [
        "# 원문의 정수 시퀀스를 텍스트 시퀀스로 변환\n",
        "def seq2text(input_seq):\n",
        "    temp = ''\n",
        "    for i in input_seq:\n",
        "        key = int(i.item())  # PyTorch Tensor → int 변환\n",
        "        if key != 0:  # 패딩(0) 제외\n",
        "            temp = temp + src_index_to_word.get(key, \"<UNK>\") + ' '  # 안전한 조회\n",
        "    return temp.strip()\n",
        "\n",
        "# 요약문의 정수 시퀀스를 텍스트 시퀀스로 변환\n",
        "def seq2summary(input_seq):\n",
        "    temp = ''\n",
        "    for i in input_seq:\n",
        "        key = int(i.item())  # PyTorch Tensor → int 변환\n",
        "        if key != 0 and key != tar_word_to_index['sostoken'] and key != tar_word_to_index['eostoken']:\n",
        "            temp = temp + tar_index_to_word.get(key, \"<UNK>\") + ' '  # 안전한 조회\n",
        "    return temp.strip()  # 양쪽 공백 제거"
      ],
      "metadata": {
        "id": "-zETFoboddPv",
        "colab": {
          "base_uri": "https://localhost:8080/"
        },
        "outputId": "26e161c9-1023-4f75-b458-ae0111dffbc3"
      },
      "execution_count": null,
      "outputs": [
        {
          "output_type": "stream",
          "name": "stdout",
          "text": [
            "=3\n"
          ]
        }
      ]
    },
    {
      "cell_type": "code",
      "source": [
        "%%time\n",
        "for i in range(50, 100):\n",
        "    print(\"원문 :\", seq2text(encoder_input_test[i]))\n",
        "    print(\"실제 요약 :\", seq2summary(decoder_input_test[i]))\n",
        "    input_seq = torch.tensor(encoder_input_test[i], dtype=torch.long, device=device).unsqueeze(0)\n",
        "    print(\"예측 요약 :\", decode_sequence(input_seq, encoder, decoder, tar_word_to_index, tar_index_to_word, text_max_len, summary_max_len, device))\n",
        "    print(\"\\n\")"
      ],
      "metadata": {
        "id": "Pu7nnRvxdgBz",
        "colab": {
          "base_uri": "https://localhost:8080/"
        },
        "outputId": "e9efb058-7919-49de-d337-72952b2b1b14"
      },
      "execution_count": null,
      "outputs": [
        {
          "output_type": "stream",
          "name": "stdout",
          "text": [
            "원문 : indian shuttler saina nehwal beat china <UNK> indonesia masters semi final reach final tournament saturday saina finished match <UNK> read nehwal silver edition indonesia masters face winner semi final <UNK> <UNK> <UNK> <UNK>\n",
            "실제 요약 : <UNK> <UNK> reaches final of indonesia <UNK>\n",
            "예측 요약 :  accused in trailer offers the mumbai made\n",
            "\n",
            "\n",
            "원문 : many people killed monday due <UNK> caused heavy rains <UNK> leone according humanitarian organisation red cross adding number buildings <UNK> illegally area officials said military personnel deployed help rescue operation\n",
            "실제 요약 : over killed in <UNK> <UNK> <UNK>\n",
            "예측 요약 :  from at his his his amazon ban\n",
            "\n",
            "\n",
            "원문 : many commuters lost lives train accidents mumbai government railway police response rti query revealed suicide falling trains hit trains crossing tracks illegally major reasons deaths reported lives crossing tracks accounted maximum number deaths\n",
            "실제 요약 : <UNK> killed on mumbai railway <UNK> in\n",
            "예측 요약 :  govt un his more uk gst gst\n",
            "\n",
            "\n",
            "원문 : dmk working president <UNK> stalin sunday said centre using agencies like department enforcement directorate cbi <UNK> aiadmk leaders political benefits bjp government invested even one percent trying solve real problems facing people tamil nadu stalin added\n",
            "실제 요약 : govt <UNK> <UNK> <UNK> against aiadmk <UNK>\n",
            "예측 요약 :  unveils at his people saudi trailer may\n",
            "\n",
            "\n",
            "원문 : chinese smartphone maker xiaomi seen growth <UNK> third quarter according international data corporation samsung saw growth year year apple grew according report recently xiaomi also began launching mi stores sell smartphones offline\n",
            "실제 요약 : <UNK> mobile <UNK> grow in of\n",
            "예측 요약 :  accused in trailer offers unveils mumbai made\n",
            "\n",
            "\n",
            "원문 : year old bengaluru man <UNK> <UNK> <UNK> <UNK> turn anti <UNK> marketing professional day <UNK> <UNK> <UNK> <UNK> mechanism hands <UNK> move anti <UNK> direction claims inspired similar clock friend seen cafe earlier\n",
            "실제 요약 : bengaluru man <UNK> <UNK> to turn anti\n",
            "예측 요약 :  accused in trailer offers the mumbai made\n",
            "\n",
            "\n",
            "원문 : sultan abdullah sultan ahmad shah thursday crowned malaysia th king nearly month sultan muhammad <UNK> year old took oath office <UNK> <UNK> ceremony national palace <UNK> <UNK> malaysian king elected <UNK> basis <UNK> country nine states five year term\n",
            "실제 요약 : <UNK> <UNK> <UNK> <UNK> th king\n",
            "예측 요약 :  accused in trailer offers the mumbai made\n",
            "\n",
            "\n",
            "원문 : several <UNK> recorded videos swiss couple lying wounded ground <UNK> <UNK> instead helping chased attacked stones <UNK> group couple reportedly assaulted refused take selfies group external affairs minister sushma swaraj sought report incident\n",
            "실제 요약 : people <UNK> <UNK> couple attacked for <UNK>\n",
            "예측 요약 :  govt up his more karnataka gst gst\n",
            "\n",
            "\n",
            "원문 : markets regulator sebi said entities failed pay penalties imposed till last month defaulters include individuals well firms failed pay fines various offences linked securities market regulator said dues pending since many cases courts <UNK>\n",
            "실제 요약 : <UNK> <UNK> in <UNK> fine to <UNK>\n",
            "예측 요약 :  from up his his ban ban us\n",
            "\n",
            "\n",
            "원문 : initial probe found leak theft reliance jio customer data navi mumbai deputy commissioner <UNK> <UNK> said said detained man may obtained information using jio retailer <UNK> password <UNK> said website <UNK> required one type mobile number get <UNK> details <UNK> leaked data\n",
            "실제 요약 : no <UNK> of reliance jio <UNK> data\n",
            "예측 요약 :  free in his his his amazon amazon\n",
            "\n",
            "\n",
            "원문 : interpol red corner notice issued request member country request locate <UNK> arrest individual pending extradition international arrest warrant member country <UNK> legal value give notice within borders interpol cannot <UNK> member country arrest individual\n",
            "실제 요약 : what <UNK> when <UNK> issues red <UNK>\n",
            "예측 요약 :  govt up his centre karnataka gst gst\n",
            "\n",
            "\n",
            "원문 : voting constituencies karnataka assembly elections began today go till pm election commission deferred voting <UNK> nagar seat nearly voter identity cards seized flat <UNK> constituency cancelled death bjp candidate <UNK> <UNK> campaigning\n",
            "실제 요약 : <UNK> for karnataka assembly elections begins\n",
            "예측 요약 :  from at his his afghanistan files files\n",
            "\n",
            "\n",
            "원문 : scientists analysing cases adult <UNK> diabetes found instances linked lesser known type diabetes majority cases <UNK> type diabetes type linked <UNK> damage whereas common types type body <UNK> <UNK> producing cells type enough <UNK> produced sugar <UNK>\n",
            "실제 요약 : study suggests third <UNK> of <UNK> being\n",
            "예측 요약 :  ban north data has mumbai ban us\n",
            "\n",
            "\n",
            "원문 : first look actress anushka shetty known starring baahubali franchise upcoming film <UNK> unveiled eve th birthday thriller release tamil telugu malayalam simultaneously directed written ashok <UNK> also stars <UNK> <UNK> <UNK>\n",
            "실제 요약 : baahubali actress anushka first look from <UNK>\n",
            "예측 요약 :  becomes up up up up us us\n",
            "\n",
            "\n",
            "원문 : taapsee pannu recently trolled posting pictures <UNK> said suddenly wearing <UNK> become indian culture <UNK> times actresses used wear really small <UNK> <UNK> <UNK> people used worship added taapsee said believe body wear <UNK> go ahead <UNK>\n",
            "실제 요약 : <UNK> wearing <UNK> is against indian <UNK>\n",
            "예측 요약 :  all at at his files saudi files\n",
            "\n",
            "\n",
            "원문 : congress spokesperson priyanka <UNK> wednesday said chidambaram son karti chidambaram arrest pm narendra modi led government <UNK> <UNK> <UNK> hide corrupt governance model bjp government continues <UNK> <UNK> politics target opponents however stop congress bringing truth people added\n",
            "실제 요약 : <UNK> arrest <UNK> <UNK> <UNK> politics cong\n",
            "예측 요약 :  unveils at at ban ban away may\n",
            "\n",
            "\n",
            "원문 : slamming congress president rahul gandhi remarks women working bjp union minister smriti irani said <UNK> women associated bjp shows level rahul gandhi fall added india defence minister lady external affairs minister lady lok sabha speaker lady\n",
            "실제 요약 : <UNK> female bjp members shows rahul level\n",
            "예측 요약 :  unveils at away two away crore may\n",
            "\n",
            "\n",
            "원문 : gurugram based ngo saturday organised km car rally visually <UNK> people acted <UNK> drivers normal vision visually <UNK> participants given <UNK> <UNK> helped guide drivers route around cars took part rally covered various <UNK> including state highways village roads\n",
            "실제 요약 : car <UNK> for <UNK> <UNK> <UNK> in\n",
            "예측 요약 :  becomes up his his up ban us\n",
            "\n",
            "\n",
            "원문 : mumbai based online shopping startup <UNK> raised million funding round existing investors including japanese conglomerate <UNK> co us based new enterprise associates round marks startup first institutional funding three year gap <UNK> reportedly expected raise funding post money valuation million\n",
            "실제 요약 : <UNK> raises crore funding after year <UNK>\n",
            "예측 요약 :  becomes up his his his his amazon\n",
            "\n",
            "\n",
            "원문 : per reports india distribution rights salman khan upcoming film tubelight sold record crore making highest distribution deal till date previous record held shah rukh khan <UNK> rights sold crore tubelight scheduled release around eid\n",
            "실제 요약 : <UNK> rights of tubelight sold for cr\n",
            "예측 요약 :  accused in trailer offers google the high\n",
            "\n",
            "\n",
            "원문 : large <UNK> <UNK> world largest powerful particle accelerator achieved new record <UNK> total number potential collisions run last year <UNK> obtained collisions bunch crossing bunch containing billion particles collisions produced crossing setting new records\n",
            "실제 요약 : world largest <UNK> makes record <UNK> <UNK>\n",
            "예측 요약 :  accused in his his his amazon amazon\n",
            "\n",
            "\n",
            "원문 : cbi alleged chargesheet six persons <UNK> unemployed made partners firms owned nirav modi reports said six persons paid per month remuneration agreed sign partnership documents <UNK> papers whenever asked needed money reports added\n",
            "실제 요약 : nirav modi <UNK> <UNK> <UNK> cbi\n",
            "예측 요약 :  from up his his ban ban us\n",
            "\n",
            "\n",
            "원문 : supreme court directed unitech pay <UNK> cost homebuyers delay delivery flats gurugram housing project court directed unitech pay amount within four weeks buyers notably homebuyers already paid principal amount interest unitech sc previous order\n",
            "실제 요약 : sc orders <UNK> to pay each to\n",
            "예측 요약 :  govt up his more karnataka gst gst\n",
            "\n",
            "\n",
            "원문 : per reports salman khan race fetched crore film distribution eid release <UNK> international offering producers amount three film studios fox star studios reliance entertainment <UNK> raj films reportedly approached producers distribution rights film scheduled release june\n",
            "실제 요약 : salman race <UNK> crore before release report\n",
            "예측 요약 :  becomes up his his ban ban away\n",
            "\n",
            "\n",
            "원문 : kangana ranaut starrer simran released friday could way <UNK> involving wrote <UNK> ndtv wrote kangana ranaut solid performance keeps film <UNK> simran <UNK> <UNK> film times india wrote kangana <UNK> simran <UNK> film rated\n",
            "실제 요약 : kangana ranaut starrer <UNK> hits the theatres\n",
            "예측 요약 :  bank un away the high files saudi\n",
            "\n",
            "\n",
            "원문 : youth run international organisation <UNK> exposed around four lakh <UNK> applications server without password security researcher <UNK> <UNK> said leaked data included affected <UNK> name date birth email gender <UNK> global vice president information management confirmed leak said users affected\n",
            "실제 요약 : youth run <UNK> leaked <UNK> <UNK> <UNK>\n",
            "예측 요약 :  accused in trailer has the mumbai made\n",
            "\n",
            "\n",
            "원문 : north south korea wednesday held <UNK> <UNK> ceremony aim <UNK> <UNK> <UNK> cross border rail road links construction projects would require <UNK> sanctions imposed north korea united nations projects part move improve bilateral relations <UNK>\n",
            "실제 요약 : korea hold <UNK> ceremony for rail road\n",
            "예측 요약 :  becomes his his his his his amazon\n",
            "\n",
            "\n",
            "원문 : veteran pakistani fast bowler mohammad asif deported dubai airport recently failing <UNK> proper travel documents security officials asif <UNK> <UNK> participate tournament flagged immigration dubai airport authorities sent back pakistan asif arrested dubai airport carrying <UNK>\n",
            "실제 요약 : pakistani <UNK> <UNK> <UNK> <UNK> from dubai\n",
            "예측 요약 :  accused in trailer offers the mumbai made\n",
            "\n",
            "\n",
            "원문 : indian pacer bhuvneshwar kumar recently shared picture instagram dinner date <UNK> <UNK> partner added would reveal full picture soon per reports bhuvneshwar date telugu film actress model <UNK> sarkar people spotted getting red car cricketer\n",
            "실제 요약 : <UNK> kumar shares <UNK> picture from <UNK>\n",
            "예측 요약 :  becomes up up up up us now\n",
            "\n",
            "\n",
            "원문 : <UNK> motor shut <UNK> plant japan monday found wannacry ransomware hit computer network plant produces around vehicles day resumed production tuesday wannacry ransomware <UNK> windows <UNK> <UNK> files computers demanded ransom paid bitcoins\n",
            "실제 요약 : <UNK> ransomware causes <UNK> plant to shut\n",
            "예측 요약 :  govt up his his ban ban gst\n",
            "\n",
            "\n",
            "원문 : <UNK> scientist stephen hawking known hawking radiation paper stated black holes <UNK> however effect directly observed far nobel prizes awarded <UNK> verified research british physicist peter <UNK> predicted god particle <UNK> <UNK> received physics nobel <UNK> confirmed\n",
            "실제 요약 : why was <UNK> <UNK> never awarded nobel\n",
            "예측 요약 :  army up his high ban gst gst\n",
            "\n",
            "\n",
            "원문 : london based british museum recently tweeted asian names <UNK> <UNK> using many responding question making information accessible <UNK> range people <UNK> session <UNK> asia <UNK> portal museum apologised criticised twitter users\n",
            "실제 요약 : <UNK> asian names can be <UNK> british\n"
          ]
        },
        {
          "output_type": "stream",
          "name": "stderr",
          "text": [
            "<timed exec>:4: UserWarning: To copy construct from a tensor, it is recommended to use sourceTensor.detach().clone() or sourceTensor.detach().clone().requires_grad_(True), rather than torch.tensor(sourceTensor).\n",
            "/tmp/ipython-input-366614501.py:3: UserWarning: To copy construct from a tensor, it is recommended to use sourceTensor.detach().clone() or sourceTensor.detach().clone().requires_grad_(True), rather than torch.tensor(sourceTensor).\n",
            "  input_seq = torch.tensor(input_seq, dtype=torch.long, device=device)\n"
          ]
        },
        {
          "output_type": "stream",
          "name": "stdout",
          "text": [
            "예측 요약 :  accused in trailer offers unveils mumbai made\n",
            "\n",
            "\n",
            "원문 : national company law appellate tribunal wednesday denied interim relief vikram bakshi plea seeking stay <UNK> franchise agreement mcdonald <UNK> joint venture mcdonald estranged partner bakshi operates mcdonald outlets north east india <UNK> set hear bakshi plea tomorrow\n",
            "실제 요약 : <UNK> denied <UNK> relief in mcdonald <UNK>\n",
            "예측 요약 :  accused in trailer offers unveils mumbai made\n",
            "\n",
            "\n",
            "원문 : indian journalist charged people smuggling allegedly helping eight people enter australia posing fake journalists group posed media contingent coming australia cover commonwealth games authorities said statement year old suspect faces years jail\n",
            "실제 요약 : indian charged with smuggling fake <UNK> in\n",
            "예측 요약 :  becomes up his his his ban army\n",
            "\n",
            "\n",
            "원문 : many newspapers <UNK> countries published prime minister narendra modi republic day opinion editorial languages external affairs ministry tweeted friday article titled shared values common <UNK> highlighted importance india ties <UNK> countries common vision future pm modi wrote piece\n",
            "실제 요약 : <UNK> in <UNK> countries <UNK> pm modi\n",
            "예측 요약 :  from up up up us now now\n",
            "\n",
            "\n",
            "원문 : delhi government planning hire special <UNK> open resource centres hire <UNK> ensure education children different needs sanctioned notified posts special <UNK> government run schools posts already filled remaining vacant posts merit <UNK> prepared official said\n",
            "실제 요약 : delhi government to <UNK> over special <UNK>\n",
            "예측 요약 :  becomes his his his his his army\n",
            "\n",
            "\n",
            "원문 : second time year air pollution recorded mumbai sunday higher delhi official data revealed mumbai recorded air quality index delhi recorded day evening mumbai expect current pollution levels continue till tuesday authorities said\n",
            "실제 요약 : mumbai air <UNK> <UNK> than delhi on\n",
            "예측 요약 :  govt up his his ban gst gst\n",
            "\n",
            "\n",
            "원문 : infosys board termed past differences co founder narayana murthy unfortunate board wishes express intention cause murthy affected person personal distress <UNK> stating point view added earlier infosys said murthy continuous assault primary reason behind vishal sikka exit\n",
            "실제 요약 : never <UNK> to cause murthy personal <UNK>\n",
            "예측 요약 :  unveils at at at at made may\n",
            "\n",
            "\n",
            "원문 : actress <UNK> haasan said finds right guy <UNK> children marriage added would mind media people think notably <UNK> haasan also born <UNK> parents <UNK> kamal haasan\n",
            "실제 요약 : won <UNK> having children before marriage <UNK>\n",
            "예측 요약 :  unveils at at ban ban away may\n",
            "\n",
            "\n",
            "원문 : <UNK> samaj party wednesday expelled senior leader prominent muslim face <UNK> siddiqui son <UNK> siddiqui party carrying anti party activities bsp general secretary <UNK> chandra mishra claimed siddiqui slaughterhouses benami properties name also took money assembly polls resulted party defeat\n",
            "실제 요약 : <UNK> expels <UNK> <UNK> for anti party\n",
            "예측 요약 :  becomes up up up highest us ban\n",
            "\n",
            "\n",
            "원문 : mohammad kaif <UNK> scored marks karnataka board exams class become state <UNK> sent paper evaluation got earlier joint <UNK> <UNK> scored full marks subjects except science confident answers sent evaluation\n",
            "실제 요약 : karnataka boy with scores after <UNK>\n",
            "예측 요약 :  accused in trailer offers the mumbai made\n",
            "\n",
            "\n",
            "원문 : supreme court denied <UNK> bail plea wednesday police detained <UNK> <UNK> prime accused bhima koregaon violence facing charges inciting violence attempt murder <UNK> dalits violence triggered <UNK> others reportedly carrying saffron flags allegedly pelted stones dalits gathered mark event\n",
            "실제 요약 : police <UNK> prime accused in <UNK> <UNK>\n",
            "예측 요약 :  govt up afghanistan now centre case now\n",
            "\n",
            "\n",
            "원문 : shares tata motors wednesday plunged much global ratings <UNK> credit rating automaker british arm <UNK> land rover rating <UNK> citing weak profitability <UNK> november moody changed automaker rating <UNK> negative stable citing expectations <UNK> weak operating performance\n",
            "실제 요약 : tata <UNK> shares <UNK> after <UNK> <UNK>\n",
            "예측 요약 :  becomes up his his his his his\n",
            "\n",
            "\n",
            "원문 : us russia research collaboration harvard created world advanced quantum computer quantum bits <UNK> fundamental unit information quantum computer classical bit store data state whereas <UNK> store simultaneously scientists believe <UNK> quantum machine <UNK> world powerful computer\n",
            "실제 요약 : harvard scientists create most advanced <UNK> computer\n",
            "예측 요약 :  accused in trailer offers the mumbai made\n",
            "\n",
            "\n",
            "원문 : russian <UNK> maker <UNK> created iphone tesla model solar charging panel phone comes attached case <UNK> made earth humans inspired elon musk sending tesla <UNK> car space priced lakh gb <UNK> first limited edition phones would reportedly sent musk\n",
            "실제 요약 : firm makes lakh iphone tesla with solar\n",
            "예측 요약 :  becomes up his his his his amazon\n",
            "\n",
            "\n",
            "원문 : rajput organisation karni sena backed <UNK> brahmin mahasabha protest kangana ranaut manikarnika queen jhansi <UNK> brahmin ka <UNK> <UNK> rajput <UNK> <UNK> <UNK> <UNK> rajput ka <UNK> <UNK> brahmin <UNK> <UNK> <UNK> <UNK> said karni sena <UNK> <UNK> singh <UNK> <UNK> brahmin mahasabha earlier signed petition blood padmaavat\n",
            "실제 요약 : <UNK> sena backs <UNK> group protest against\n",
            "예측 요약 :  hits two by saudi files bans bans\n",
            "\n",
            "\n",
            "원문 : banking giant <UNK> appointed indian ceo years india operations naming jayant <UNK> role <UNK> start new role december taking position <UNK> <UNK> <UNK> <UNK> since currently serving head strategy planning asia pacific\n",
            "실제 요약 : <UNK> india gets an indian ceo after\n",
            "예측 요약 :  govt up his centre centre gst gst\n",
            "\n",
            "\n",
            "원문 : sebi chairman ajay <UNK> said markets regulator keeping close tab share price movement infosys comes infosys shares plunged nearly friday <UNK> crore market valuation vishal sikka resigned ceo shares fell monday despite crore buyback announcement company\n",
            "실제 요약 : <UNK> watch on infosys share price <UNK>\n",
            "예측 요약 :  becomes up his his his his amazon\n",
            "\n",
            "\n",
            "원문 : nasa captured image trillion tonne <UNK> measuring <UNK> km nearly four times size london recently separated antarctica <UNK> ice <UNK> image taken dark nasa <UNK> satellite shows <UNK> breaking several smaller pieces <UNK> break july one biggest ever recorded\n",
            "실제 요약 : trillion <UNK> <UNK> <UNK> <UNK> <UNK> in\n",
            "예측 요약 :  accused in trailer offers the mumbai people\n",
            "\n",
            "\n",
            "원문 : according police least three maoists arrested search operation chhattisgarh insurgency hit sukma <UNK> attack left crpf jawans dead last week reportedly trio involved attack police party <UNK> <UNK> villages region march year\n",
            "실제 요약 : three <UNK> arrested during search operation in\n",
            "예측 요약 :  govt un his more more gst gst\n",
            "\n",
            "\n",
            "CPU times: user 287 ms, sys: 3.18 ms, total: 290 ms\n",
            "Wall time: 313 ms\n"
          ]
        }
      ]
    },
    {
      "cell_type": "markdown",
      "source": [
        "# 추출적 요약 해보기"
      ],
      "metadata": {
        "id": "nvJXZla8djmA"
      }
    },
    {
      "cell_type": "code",
      "source": [
        "!pip install summa"
      ],
      "metadata": {
        "id": "lP1Yf4RQdk9t",
        "colab": {
          "base_uri": "https://localhost:8080/"
        },
        "outputId": "deeafd3a-bda2-47ea-a83b-6e44af0b8530"
      },
      "execution_count": null,
      "outputs": [
        {
          "output_type": "stream",
          "name": "stdout",
          "text": [
            "Requirement already satisfied: summa in /usr/local/lib/python3.12/dist-packages (1.2.0)\n",
            "Requirement already satisfied: scipy>=0.19 in /usr/local/lib/python3.12/dist-packages (from summa) (1.16.2)\n",
            "Requirement already satisfied: numpy<2.6,>=1.25.2 in /usr/local/lib/python3.12/dist-packages (from scipy>=0.19->summa) (2.0.2)\n"
          ]
        }
      ]
    },
    {
      "cell_type": "code",
      "source": [
        "import requests\n",
        "from summa.summarizer import summarize"
      ],
      "metadata": {
        "id": "TykOROaNdn_N"
      },
      "execution_count": null,
      "outputs": []
    },
    {
      "cell_type": "markdown",
      "source": [
        "## summarize 사용하기"
      ],
      "metadata": {
        "id": "ZQSWLWTjdwF0"
      }
    },
    {
      "cell_type": "code",
      "source": [
        "%%time\n",
        "for i in range(50, 100):\n",
        "    print(\"원문 :\", seq2text(encoder_input_test[i]))\n",
        "    print(\"실제 요약 :\", seq2summary(decoder_input_test[i]))\n",
        "    print(\"추출 요약 :\", summarize(seq2text(encoder_input_test[i]), words=10))\n",
        "    print(\"\\n\")"
      ],
      "metadata": {
        "id": "qgYvOsfudsCx",
        "colab": {
          "base_uri": "https://localhost:8080/"
        },
        "outputId": "2e95b560-d8cd-4790-89e7-4db2bfef4720"
      },
      "execution_count": null,
      "outputs": [
        {
          "output_type": "stream",
          "name": "stdout",
          "text": [
            "원문 : indian shuttler saina nehwal beat china <UNK> indonesia masters semi final reach final tournament saturday saina finished match <UNK> read nehwal silver edition indonesia masters face winner semi final <UNK> <UNK> <UNK> <UNK>\n",
            "실제 요약 : <UNK> <UNK> reaches final of indonesia <UNK>\n",
            "추출 요약 : \n",
            "\n",
            "\n",
            "원문 : many people killed monday due <UNK> caused heavy rains <UNK> leone according humanitarian organisation red cross adding number buildings <UNK> illegally area officials said military personnel deployed help rescue operation\n",
            "실제 요약 : over killed in <UNK> <UNK> <UNK>\n",
            "추출 요약 : \n",
            "\n",
            "\n",
            "원문 : many commuters lost lives train accidents mumbai government railway police response rti query revealed suicide falling trains hit trains crossing tracks illegally major reasons deaths reported lives crossing tracks accounted maximum number deaths\n",
            "실제 요약 : <UNK> killed on mumbai railway <UNK> in\n",
            "추출 요약 : \n",
            "\n",
            "\n",
            "원문 : dmk working president <UNK> stalin sunday said centre using agencies like department enforcement directorate cbi <UNK> aiadmk leaders political benefits bjp government invested even one percent trying solve real problems facing people tamil nadu stalin added\n",
            "실제 요약 : govt <UNK> <UNK> <UNK> against aiadmk <UNK>\n",
            "추출 요약 : \n",
            "\n",
            "\n",
            "원문 : chinese smartphone maker xiaomi seen growth <UNK> third quarter according international data corporation samsung saw growth year year apple grew according report recently xiaomi also began launching mi stores sell smartphones offline\n",
            "실제 요약 : <UNK> mobile <UNK> grow in of\n",
            "추출 요약 : \n",
            "\n",
            "\n",
            "원문 : year old bengaluru man <UNK> <UNK> <UNK> <UNK> turn anti <UNK> marketing professional day <UNK> <UNK> <UNK> <UNK> mechanism hands <UNK> move anti <UNK> direction claims inspired similar clock friend seen cafe earlier\n",
            "실제 요약 : bengaluru man <UNK> <UNK> to turn anti\n",
            "추출 요약 : \n",
            "\n",
            "\n",
            "원문 : sultan abdullah sultan ahmad shah thursday crowned malaysia th king nearly month sultan muhammad <UNK> year old took oath office <UNK> <UNK> ceremony national palace <UNK> <UNK> malaysian king elected <UNK> basis <UNK> country nine states five year term\n",
            "실제 요약 : <UNK> <UNK> <UNK> <UNK> th king\n",
            "추출 요약 : \n",
            "\n",
            "\n",
            "원문 : several <UNK> recorded videos swiss couple lying wounded ground <UNK> <UNK> instead helping chased attacked stones <UNK> group couple reportedly assaulted refused take selfies group external affairs minister sushma swaraj sought report incident\n",
            "실제 요약 : people <UNK> <UNK> couple attacked for <UNK>\n",
            "추출 요약 : \n",
            "\n",
            "\n",
            "원문 : markets regulator sebi said entities failed pay penalties imposed till last month defaulters include individuals well firms failed pay fines various offences linked securities market regulator said dues pending since many cases courts <UNK>\n",
            "실제 요약 : <UNK> <UNK> in <UNK> fine to <UNK>\n",
            "추출 요약 : \n",
            "\n",
            "\n",
            "원문 : initial probe found leak theft reliance jio customer data navi mumbai deputy commissioner <UNK> <UNK> said said detained man may obtained information using jio retailer <UNK> password <UNK> said website <UNK> required one type mobile number get <UNK> details <UNK> leaked data\n",
            "실제 요약 : no <UNK> of reliance jio <UNK> data\n",
            "추출 요약 : \n",
            "\n",
            "\n",
            "원문 : interpol red corner notice issued request member country request locate <UNK> arrest individual pending extradition international arrest warrant member country <UNK> legal value give notice within borders interpol cannot <UNK> member country arrest individual\n",
            "실제 요약 : what <UNK> when <UNK> issues red <UNK>\n",
            "추출 요약 : \n",
            "\n",
            "\n",
            "원문 : voting constituencies karnataka assembly elections began today go till pm election commission deferred voting <UNK> nagar seat nearly voter identity cards seized flat <UNK> constituency cancelled death bjp candidate <UNK> <UNK> campaigning\n",
            "실제 요약 : <UNK> for karnataka assembly elections begins\n",
            "추출 요약 : \n",
            "\n",
            "\n",
            "원문 : scientists analysing cases adult <UNK> diabetes found instances linked lesser known type diabetes majority cases <UNK> type diabetes type linked <UNK> damage whereas common types type body <UNK> <UNK> producing cells type enough <UNK> produced sugar <UNK>\n",
            "실제 요약 : study suggests third <UNK> of <UNK> being\n",
            "추출 요약 : \n",
            "\n",
            "\n",
            "원문 : first look actress anushka shetty known starring baahubali franchise upcoming film <UNK> unveiled eve th birthday thriller release tamil telugu malayalam simultaneously directed written ashok <UNK> also stars <UNK> <UNK> <UNK>\n",
            "실제 요약 : baahubali actress anushka first look from <UNK>\n",
            "추출 요약 : \n",
            "\n",
            "\n",
            "원문 : taapsee pannu recently trolled posting pictures <UNK> said suddenly wearing <UNK> become indian culture <UNK> times actresses used wear really small <UNK> <UNK> <UNK> people used worship added taapsee said believe body wear <UNK> go ahead <UNK>\n",
            "실제 요약 : <UNK> wearing <UNK> is against indian <UNK>\n",
            "추출 요약 : \n",
            "\n",
            "\n",
            "원문 : congress spokesperson priyanka <UNK> wednesday said chidambaram son karti chidambaram arrest pm narendra modi led government <UNK> <UNK> <UNK> hide corrupt governance model bjp government continues <UNK> <UNK> politics target opponents however stop congress bringing truth people added\n",
            "실제 요약 : <UNK> arrest <UNK> <UNK> <UNK> politics cong\n",
            "추출 요약 : \n",
            "\n",
            "\n",
            "원문 : slamming congress president rahul gandhi remarks women working bjp union minister smriti irani said <UNK> women associated bjp shows level rahul gandhi fall added india defence minister lady external affairs minister lady lok sabha speaker lady\n",
            "실제 요약 : <UNK> female bjp members shows rahul level\n",
            "추출 요약 : \n",
            "\n",
            "\n",
            "원문 : gurugram based ngo saturday organised km car rally visually <UNK> people acted <UNK> drivers normal vision visually <UNK> participants given <UNK> <UNK> helped guide drivers route around cars took part rally covered various <UNK> including state highways village roads\n",
            "실제 요약 : car <UNK> for <UNK> <UNK> <UNK> in\n",
            "추출 요약 : \n",
            "\n",
            "\n",
            "원문 : mumbai based online shopping startup <UNK> raised million funding round existing investors including japanese conglomerate <UNK> co us based new enterprise associates round marks startup first institutional funding three year gap <UNK> reportedly expected raise funding post money valuation million\n",
            "실제 요약 : <UNK> raises crore funding after year <UNK>\n",
            "추출 요약 : \n",
            "\n",
            "\n",
            "원문 : per reports india distribution rights salman khan upcoming film tubelight sold record crore making highest distribution deal till date previous record held shah rukh khan <UNK> rights sold crore tubelight scheduled release around eid\n",
            "실제 요약 : <UNK> rights of tubelight sold for cr\n",
            "추출 요약 : \n",
            "\n",
            "\n",
            "원문 : large <UNK> <UNK> world largest powerful particle accelerator achieved new record <UNK> total number potential collisions run last year <UNK> obtained collisions bunch crossing bunch containing billion particles collisions produced crossing setting new records\n",
            "실제 요약 : world largest <UNK> makes record <UNK> <UNK>\n",
            "추출 요약 : \n",
            "\n",
            "\n",
            "원문 : cbi alleged chargesheet six persons <UNK> unemployed made partners firms owned nirav modi reports said six persons paid per month remuneration agreed sign partnership documents <UNK> papers whenever asked needed money reports added\n",
            "실제 요약 : nirav modi <UNK> <UNK> <UNK> cbi\n",
            "추출 요약 : \n",
            "\n",
            "\n",
            "원문 : supreme court directed unitech pay <UNK> cost homebuyers delay delivery flats gurugram housing project court directed unitech pay amount within four weeks buyers notably homebuyers already paid principal amount interest unitech sc previous order\n",
            "실제 요약 : sc orders <UNK> to pay each to\n",
            "추출 요약 : \n",
            "\n",
            "\n",
            "원문 : per reports salman khan race fetched crore film distribution eid release <UNK> international offering producers amount three film studios fox star studios reliance entertainment <UNK> raj films reportedly approached producers distribution rights film scheduled release june\n",
            "실제 요약 : salman race <UNK> crore before release report\n",
            "추출 요약 : \n",
            "\n",
            "\n",
            "원문 : kangana ranaut starrer simran released friday could way <UNK> involving wrote <UNK> ndtv wrote kangana ranaut solid performance keeps film <UNK> simran <UNK> <UNK> film times india wrote kangana <UNK> simran <UNK> film rated\n",
            "실제 요약 : kangana ranaut starrer <UNK> hits the theatres\n",
            "추출 요약 : \n",
            "\n",
            "\n",
            "원문 : youth run international organisation <UNK> exposed around four lakh <UNK> applications server without password security researcher <UNK> <UNK> said leaked data included affected <UNK> name date birth email gender <UNK> global vice president information management confirmed leak said users affected\n",
            "실제 요약 : youth run <UNK> leaked <UNK> <UNK> <UNK>\n",
            "추출 요약 : \n",
            "\n",
            "\n",
            "원문 : north south korea wednesday held <UNK> <UNK> ceremony aim <UNK> <UNK> <UNK> cross border rail road links construction projects would require <UNK> sanctions imposed north korea united nations projects part move improve bilateral relations <UNK>\n",
            "실제 요약 : korea hold <UNK> ceremony for rail road\n",
            "추출 요약 : \n",
            "\n",
            "\n",
            "원문 : veteran pakistani fast bowler mohammad asif deported dubai airport recently failing <UNK> proper travel documents security officials asif <UNK> <UNK> participate tournament flagged immigration dubai airport authorities sent back pakistan asif arrested dubai airport carrying <UNK>\n",
            "실제 요약 : pakistani <UNK> <UNK> <UNK> <UNK> from dubai\n",
            "추출 요약 : \n",
            "\n",
            "\n",
            "원문 : indian pacer bhuvneshwar kumar recently shared picture instagram dinner date <UNK> <UNK> partner added would reveal full picture soon per reports bhuvneshwar date telugu film actress model <UNK> sarkar people spotted getting red car cricketer\n",
            "실제 요약 : <UNK> kumar shares <UNK> picture from <UNK>\n",
            "추출 요약 : \n",
            "\n",
            "\n",
            "원문 : <UNK> motor shut <UNK> plant japan monday found wannacry ransomware hit computer network plant produces around vehicles day resumed production tuesday wannacry ransomware <UNK> windows <UNK> <UNK> files computers demanded ransom paid bitcoins\n",
            "실제 요약 : <UNK> ransomware causes <UNK> plant to shut\n",
            "추출 요약 : \n",
            "\n",
            "\n",
            "원문 : <UNK> scientist stephen hawking known hawking radiation paper stated black holes <UNK> however effect directly observed far nobel prizes awarded <UNK> verified research british physicist peter <UNK> predicted god particle <UNK> <UNK> received physics nobel <UNK> confirmed\n",
            "실제 요약 : why was <UNK> <UNK> never awarded nobel\n",
            "추출 요약 : \n",
            "\n",
            "\n",
            "원문 : london based british museum recently tweeted asian names <UNK> <UNK> using many responding question making information accessible <UNK> range people <UNK> session <UNK> asia <UNK> portal museum apologised criticised twitter users\n",
            "실제 요약 : <UNK> asian names can be <UNK> british\n",
            "추출 요약 : \n",
            "\n",
            "\n",
            "원문 : national company law appellate tribunal wednesday denied interim relief vikram bakshi plea seeking stay <UNK> franchise agreement mcdonald <UNK> joint venture mcdonald estranged partner bakshi operates mcdonald outlets north east india <UNK> set hear bakshi plea tomorrow\n",
            "실제 요약 : <UNK> denied <UNK> relief in mcdonald <UNK>\n",
            "추출 요약 : \n",
            "\n",
            "\n",
            "원문 : indian journalist charged people smuggling allegedly helping eight people enter australia posing fake journalists group posed media contingent coming australia cover commonwealth games authorities said statement year old suspect faces years jail\n",
            "실제 요약 : indian charged with smuggling fake <UNK> in\n",
            "추출 요약 : \n",
            "\n",
            "\n",
            "원문 : many newspapers <UNK> countries published prime minister narendra modi republic day opinion editorial languages external affairs ministry tweeted friday article titled shared values common <UNK> highlighted importance india ties <UNK> countries common vision future pm modi wrote piece\n",
            "실제 요약 : <UNK> in <UNK> countries <UNK> pm modi\n",
            "추출 요약 : \n",
            "\n",
            "\n",
            "원문 : delhi government planning hire special <UNK> open resource centres hire <UNK> ensure education children different needs sanctioned notified posts special <UNK> government run schools posts already filled remaining vacant posts merit <UNK> prepared official said\n",
            "실제 요약 : delhi government to <UNK> over special <UNK>\n",
            "추출 요약 : \n",
            "\n",
            "\n",
            "원문 : second time year air pollution recorded mumbai sunday higher delhi official data revealed mumbai recorded air quality index delhi recorded day evening mumbai expect current pollution levels continue till tuesday authorities said\n",
            "실제 요약 : mumbai air <UNK> <UNK> than delhi on\n",
            "추출 요약 : \n",
            "\n",
            "\n",
            "원문 : infosys board termed past differences co founder narayana murthy unfortunate board wishes express intention cause murthy affected person personal distress <UNK> stating point view added earlier infosys said murthy continuous assault primary reason behind vishal sikka exit\n",
            "실제 요약 : never <UNK> to cause murthy personal <UNK>\n",
            "추출 요약 : \n",
            "\n",
            "\n",
            "원문 : actress <UNK> haasan said finds right guy <UNK> children marriage added would mind media people think notably <UNK> haasan also born <UNK> parents <UNK> kamal haasan\n",
            "실제 요약 : won <UNK> having children before marriage <UNK>\n",
            "추출 요약 : \n",
            "\n",
            "\n",
            "원문 : <UNK> samaj party wednesday expelled senior leader prominent muslim face <UNK> siddiqui son <UNK> siddiqui party carrying anti party activities bsp general secretary <UNK> chandra mishra claimed siddiqui slaughterhouses benami properties name also took money assembly polls resulted party defeat\n",
            "실제 요약 : <UNK> expels <UNK> <UNK> for anti party\n",
            "추출 요약 : \n",
            "\n",
            "\n",
            "원문 : mohammad kaif <UNK> scored marks karnataka board exams class become state <UNK> sent paper evaluation got earlier joint <UNK> <UNK> scored full marks subjects except science confident answers sent evaluation\n",
            "실제 요약 : karnataka boy with scores after <UNK>\n",
            "추출 요약 : \n",
            "\n",
            "\n",
            "원문 : supreme court denied <UNK> bail plea wednesday police detained <UNK> <UNK> prime accused bhima koregaon violence facing charges inciting violence attempt murder <UNK> dalits violence triggered <UNK> others reportedly carrying saffron flags allegedly pelted stones dalits gathered mark event\n",
            "실제 요약 : police <UNK> prime accused in <UNK> <UNK>\n",
            "추출 요약 : \n",
            "\n",
            "\n",
            "원문 : shares tata motors wednesday plunged much global ratings <UNK> credit rating automaker british arm <UNK> land rover rating <UNK> citing weak profitability <UNK> november moody changed automaker rating <UNK> negative stable citing expectations <UNK> weak operating performance\n",
            "실제 요약 : tata <UNK> shares <UNK> after <UNK> <UNK>\n",
            "추출 요약 : \n",
            "\n",
            "\n",
            "원문 : us russia research collaboration harvard created world advanced quantum computer quantum bits <UNK> fundamental unit information quantum computer classical bit store data state whereas <UNK> store simultaneously scientists believe <UNK> quantum machine <UNK> world powerful computer\n",
            "실제 요약 : harvard scientists create most advanced <UNK> computer\n",
            "추출 요약 : \n",
            "\n",
            "\n",
            "원문 : russian <UNK> maker <UNK> created iphone tesla model solar charging panel phone comes attached case <UNK> made earth humans inspired elon musk sending tesla <UNK> car space priced lakh gb <UNK> first limited edition phones would reportedly sent musk\n",
            "실제 요약 : firm makes lakh iphone tesla with solar\n",
            "추출 요약 : \n",
            "\n",
            "\n",
            "원문 : rajput organisation karni sena backed <UNK> brahmin mahasabha protest kangana ranaut manikarnika queen jhansi <UNK> brahmin ka <UNK> <UNK> rajput <UNK> <UNK> <UNK> <UNK> rajput ka <UNK> <UNK> brahmin <UNK> <UNK> <UNK> <UNK> said karni sena <UNK> <UNK> singh <UNK> <UNK> brahmin mahasabha earlier signed petition blood padmaavat\n",
            "실제 요약 : <UNK> sena backs <UNK> group protest against\n",
            "추출 요약 : \n",
            "\n",
            "\n",
            "원문 : banking giant <UNK> appointed indian ceo years india operations naming jayant <UNK> role <UNK> start new role december taking position <UNK> <UNK> <UNK> <UNK> since currently serving head strategy planning asia pacific\n",
            "실제 요약 : <UNK> india gets an indian ceo after\n",
            "추출 요약 : \n",
            "\n",
            "\n",
            "원문 : sebi chairman ajay <UNK> said markets regulator keeping close tab share price movement infosys comes infosys shares plunged nearly friday <UNK> crore market valuation vishal sikka resigned ceo shares fell monday despite crore buyback announcement company\n",
            "실제 요약 : <UNK> watch on infosys share price <UNK>\n",
            "추출 요약 : \n",
            "\n",
            "\n",
            "원문 : nasa captured image trillion tonne <UNK> measuring <UNK> km nearly four times size london recently separated antarctica <UNK> ice <UNK> image taken dark nasa <UNK> satellite shows <UNK> breaking several smaller pieces <UNK> break july one biggest ever recorded\n",
            "실제 요약 : trillion <UNK> <UNK> <UNK> <UNK> <UNK> in\n",
            "추출 요약 : \n",
            "\n",
            "\n",
            "원문 : according police least three maoists arrested search operation chhattisgarh insurgency hit sukma <UNK> attack left crpf jawans dead last week reportedly trio involved attack police party <UNK> <UNK> villages region march year\n",
            "실제 요약 : three <UNK> arrested during search operation in\n",
            "추출 요약 : \n",
            "\n",
            "\n",
            "CPU times: user 73.5 ms, sys: 1.2 ms, total: 74.7 ms\n",
            "Wall time: 98.1 ms\n"
          ]
        }
      ]
    },
    {
      "cell_type": "code",
      "source": [
        "def summa_ready(text: str, tokens_per_sentence: int = 12) -> str:\n",
        "    # 1) 잡음 제거\n",
        "    t = text.replace(\"<UNK>\", \" \").strip()\n",
        "    # 2) 공백 정리\n",
        "    toks = t.split()\n",
        "    if not toks:\n",
        "        return \"\"\n",
        "    # 3) 문장 경계 인위 생성 (Textrank가 먹히도록 2문장 이상 보장)\n",
        "    sents = [\" \".join(toks[i:i+tokens_per_sentence])\n",
        "             for i in range(0, len(toks), tokens_per_sentence)]\n",
        "    return \". \".join(sents) + \".\"\n",
        "\n",
        "for i in range(50, 100):\n",
        "    src_text = seq2text(encoder_input_test[i])          # 원문 복원(문자열)\n",
        "    ref_sum  = seq2summary(decoder_input_test[i])\n",
        "\n",
        "    print(\"원문 :\", src_text)\n",
        "    print(\"실제 요약 :\", ref_sum)\n",
        "\n",
        "    # 추출 요약: 전처리 후 요약\n",
        "    prepped = summa_ready(src_text, tokens_per_sentence=12)\n",
        "    ext = summarize(prepped, language=\"english\", ratio=0.01)   # 영어 토큰 → english\n",
        "    if not ext:  # 혹시 또 비면 약간 완화\n",
        "        ext = summarize(prepped, language=\"english\", ratio=0.01) or prepped.split(\".\")[0]\n",
        "\n",
        "    print(\"추출 요약 :\", ext.strip())\n",
        "    print(\"\\n\")"
      ],
      "metadata": {
        "id": "filq8OgrdsGA",
        "colab": {
          "base_uri": "https://localhost:8080/"
        },
        "outputId": "b930036f-e4c0-44a4-a8e4-166d6e606dd6"
      },
      "execution_count": null,
      "outputs": [
        {
          "output_type": "stream",
          "name": "stdout",
          "text": [
            "원문 : indian shuttler saina nehwal beat china <UNK> indonesia masters semi final reach final tournament saturday saina finished match <UNK> read nehwal silver edition indonesia masters face winner semi final <UNK> <UNK> <UNK> <UNK>\n",
            "실제 요약 : <UNK> <UNK> reaches final of indonesia <UNK>\n",
            "추출 요약 : indian shuttler saina nehwal beat china indonesia masters semi final reach final\n",
            "\n",
            "\n",
            "원문 : many people killed monday due <UNK> caused heavy rains <UNK> leone according humanitarian organisation red cross adding number buildings <UNK> illegally area officials said military personnel deployed help rescue operation\n",
            "실제 요약 : over killed in <UNK> <UNK> <UNK>\n",
            "추출 요약 : many people killed monday due caused heavy rains leone according humanitarian organisation\n",
            "\n",
            "\n",
            "원문 : many commuters lost lives train accidents mumbai government railway police response rti query revealed suicide falling trains hit trains crossing tracks illegally major reasons deaths reported lives crossing tracks accounted maximum number deaths\n",
            "실제 요약 : <UNK> killed on mumbai railway <UNK> in\n",
            "추출 요약 : many commuters lost lives train accidents mumbai government railway police response rti\n",
            "\n",
            "\n",
            "원문 : dmk working president <UNK> stalin sunday said centre using agencies like department enforcement directorate cbi <UNK> aiadmk leaders political benefits bjp government invested even one percent trying solve real problems facing people tamil nadu stalin added\n",
            "실제 요약 : govt <UNK> <UNK> <UNK> against aiadmk <UNK>\n",
            "추출 요약 : dmk working president stalin sunday said centre using agencies like department enforcement\n",
            "\n",
            "\n",
            "원문 : chinese smartphone maker xiaomi seen growth <UNK> third quarter according international data corporation samsung saw growth year year apple grew according report recently xiaomi also began launching mi stores sell smartphones offline\n",
            "실제 요약 : <UNK> mobile <UNK> grow in of\n",
            "추출 요약 : chinese smartphone maker xiaomi seen growth third quarter according international data corporation\n",
            "\n",
            "\n",
            "원문 : year old bengaluru man <UNK> <UNK> <UNK> <UNK> turn anti <UNK> marketing professional day <UNK> <UNK> <UNK> <UNK> mechanism hands <UNK> move anti <UNK> direction claims inspired similar clock friend seen cafe earlier\n",
            "실제 요약 : bengaluru man <UNK> <UNK> to turn anti\n",
            "추출 요약 : year old bengaluru man turn anti marketing professional day mechanism hands move\n",
            "\n",
            "\n",
            "원문 : sultan abdullah sultan ahmad shah thursday crowned malaysia th king nearly month sultan muhammad <UNK> year old took oath office <UNK> <UNK> ceremony national palace <UNK> <UNK> malaysian king elected <UNK> basis <UNK> country nine states five year term\n",
            "실제 요약 : <UNK> <UNK> <UNK> <UNK> th king\n",
            "추출 요약 : sultan abdullah sultan ahmad shah thursday crowned malaysia th king nearly month\n",
            "\n",
            "\n",
            "원문 : several <UNK> recorded videos swiss couple lying wounded ground <UNK> <UNK> instead helping chased attacked stones <UNK> group couple reportedly assaulted refused take selfies group external affairs minister sushma swaraj sought report incident\n",
            "실제 요약 : people <UNK> <UNK> couple attacked for <UNK>\n",
            "추출 요약 : several recorded videos swiss couple lying wounded ground instead helping chased attacked\n",
            "\n",
            "\n",
            "원문 : markets regulator sebi said entities failed pay penalties imposed till last month defaulters include individuals well firms failed pay fines various offences linked securities market regulator said dues pending since many cases courts <UNK>\n",
            "실제 요약 : <UNK> <UNK> in <UNK> fine to <UNK>\n",
            "추출 요약 : markets regulator sebi said entities failed pay penalties imposed till last month\n",
            "\n",
            "\n",
            "원문 : initial probe found leak theft reliance jio customer data navi mumbai deputy commissioner <UNK> <UNK> said said detained man may obtained information using jio retailer <UNK> password <UNK> said website <UNK> required one type mobile number get <UNK> details <UNK> leaked data\n",
            "실제 요약 : no <UNK> of reliance jio <UNK> data\n",
            "추출 요약 : initial probe found leak theft reliance jio customer data navi mumbai deputy\n",
            "\n",
            "\n",
            "원문 : interpol red corner notice issued request member country request locate <UNK> arrest individual pending extradition international arrest warrant member country <UNK> legal value give notice within borders interpol cannot <UNK> member country arrest individual\n",
            "실제 요약 : what <UNK> when <UNK> issues red <UNK>\n",
            "추출 요약 : interpol red corner notice issued request member country request locate arrest individual\n",
            "\n",
            "\n",
            "원문 : voting constituencies karnataka assembly elections began today go till pm election commission deferred voting <UNK> nagar seat nearly voter identity cards seized flat <UNK> constituency cancelled death bjp candidate <UNK> <UNK> campaigning\n",
            "실제 요약 : <UNK> for karnataka assembly elections begins\n",
            "추출 요약 : voting constituencies karnataka assembly elections began today go till pm election commission\n",
            "\n",
            "\n",
            "원문 : scientists analysing cases adult <UNK> diabetes found instances linked lesser known type diabetes majority cases <UNK> type diabetes type linked <UNK> damage whereas common types type body <UNK> <UNK> producing cells type enough <UNK> produced sugar <UNK>\n",
            "실제 요약 : study suggests third <UNK> of <UNK> being\n",
            "추출 요약 : scientists analysing cases adult diabetes found instances linked lesser known type diabetes\n",
            "\n",
            "\n",
            "원문 : first look actress anushka shetty known starring baahubali franchise upcoming film <UNK> unveiled eve th birthday thriller release tamil telugu malayalam simultaneously directed written ashok <UNK> also stars <UNK> <UNK> <UNK>\n",
            "실제 요약 : baahubali actress anushka first look from <UNK>\n",
            "추출 요약 : first look actress anushka shetty known starring baahubali franchise upcoming film unveiled\n",
            "\n",
            "\n",
            "원문 : taapsee pannu recently trolled posting pictures <UNK> said suddenly wearing <UNK> become indian culture <UNK> times actresses used wear really small <UNK> <UNK> <UNK> people used worship added taapsee said believe body wear <UNK> go ahead <UNK>\n",
            "실제 요약 : <UNK> wearing <UNK> is against indian <UNK>\n",
            "추출 요약 : taapsee pannu recently trolled posting pictures said suddenly wearing become indian culture\n",
            "\n",
            "\n",
            "원문 : congress spokesperson priyanka <UNK> wednesday said chidambaram son karti chidambaram arrest pm narendra modi led government <UNK> <UNK> <UNK> hide corrupt governance model bjp government continues <UNK> <UNK> politics target opponents however stop congress bringing truth people added\n",
            "실제 요약 : <UNK> arrest <UNK> <UNK> <UNK> politics cong\n",
            "추출 요약 : congress spokesperson priyanka wednesday said chidambaram son karti chidambaram arrest pm narendra\n",
            "\n",
            "\n",
            "원문 : slamming congress president rahul gandhi remarks women working bjp union minister smriti irani said <UNK> women associated bjp shows level rahul gandhi fall added india defence minister lady external affairs minister lady lok sabha speaker lady\n",
            "실제 요약 : <UNK> female bjp members shows rahul level\n",
            "추출 요약 : slamming congress president rahul gandhi remarks women working bjp union minister smriti\n",
            "\n",
            "\n",
            "원문 : gurugram based ngo saturday organised km car rally visually <UNK> people acted <UNK> drivers normal vision visually <UNK> participants given <UNK> <UNK> helped guide drivers route around cars took part rally covered various <UNK> including state highways village roads\n",
            "실제 요약 : car <UNK> for <UNK> <UNK> <UNK> in\n",
            "추출 요약 : gurugram based ngo saturday organised km car rally visually people acted drivers\n",
            "\n",
            "\n",
            "원문 : mumbai based online shopping startup <UNK> raised million funding round existing investors including japanese conglomerate <UNK> co us based new enterprise associates round marks startup first institutional funding three year gap <UNK> reportedly expected raise funding post money valuation million\n",
            "실제 요약 : <UNK> raises crore funding after year <UNK>\n",
            "추출 요약 : mumbai based online shopping startup raised million funding round existing investors including\n",
            "\n",
            "\n",
            "원문 : per reports india distribution rights salman khan upcoming film tubelight sold record crore making highest distribution deal till date previous record held shah rukh khan <UNK> rights sold crore tubelight scheduled release around eid\n",
            "실제 요약 : <UNK> rights of tubelight sold for cr\n",
            "추출 요약 : per reports india distribution rights salman khan upcoming film tubelight sold record\n",
            "\n",
            "\n",
            "원문 : large <UNK> <UNK> world largest powerful particle accelerator achieved new record <UNK> total number potential collisions run last year <UNK> obtained collisions bunch crossing bunch containing billion particles collisions produced crossing setting new records\n",
            "실제 요약 : world largest <UNK> makes record <UNK> <UNK>\n",
            "추출 요약 : large world largest powerful particle accelerator achieved new record total number potential\n",
            "\n",
            "\n",
            "원문 : cbi alleged chargesheet six persons <UNK> unemployed made partners firms owned nirav modi reports said six persons paid per month remuneration agreed sign partnership documents <UNK> papers whenever asked needed money reports added\n",
            "실제 요약 : nirav modi <UNK> <UNK> <UNK> cbi\n",
            "추출 요약 : cbi alleged chargesheet six persons unemployed made partners firms owned nirav modi\n",
            "\n",
            "\n",
            "원문 : supreme court directed unitech pay <UNK> cost homebuyers delay delivery flats gurugram housing project court directed unitech pay amount within four weeks buyers notably homebuyers already paid principal amount interest unitech sc previous order\n",
            "실제 요약 : sc orders <UNK> to pay each to\n",
            "추출 요약 : supreme court directed unitech pay cost homebuyers delay delivery flats gurugram housing\n",
            "\n",
            "\n",
            "원문 : per reports salman khan race fetched crore film distribution eid release <UNK> international offering producers amount three film studios fox star studios reliance entertainment <UNK> raj films reportedly approached producers distribution rights film scheduled release june\n",
            "실제 요약 : salman race <UNK> crore before release report\n",
            "추출 요약 : per reports salman khan race fetched crore film distribution eid release international\n",
            "\n",
            "\n",
            "원문 : kangana ranaut starrer simran released friday could way <UNK> involving wrote <UNK> ndtv wrote kangana ranaut solid performance keeps film <UNK> simran <UNK> <UNK> film times india wrote kangana <UNK> simran <UNK> film rated\n",
            "실제 요약 : kangana ranaut starrer <UNK> hits the theatres\n",
            "추출 요약 : kangana ranaut starrer simran released friday could way involving wrote ndtv wrote\n",
            "\n",
            "\n",
            "원문 : youth run international organisation <UNK> exposed around four lakh <UNK> applications server without password security researcher <UNK> <UNK> said leaked data included affected <UNK> name date birth email gender <UNK> global vice president information management confirmed leak said users affected\n",
            "실제 요약 : youth run <UNK> leaked <UNK> <UNK> <UNK>\n",
            "추출 요약 : youth run international organisation exposed around four lakh applications server without password\n",
            "\n",
            "\n",
            "원문 : north south korea wednesday held <UNK> <UNK> ceremony aim <UNK> <UNK> <UNK> cross border rail road links construction projects would require <UNK> sanctions imposed north korea united nations projects part move improve bilateral relations <UNK>\n",
            "실제 요약 : korea hold <UNK> ceremony for rail road\n",
            "추출 요약 : north south korea wednesday held ceremony aim cross border rail road links\n",
            "\n",
            "\n",
            "원문 : veteran pakistani fast bowler mohammad asif deported dubai airport recently failing <UNK> proper travel documents security officials asif <UNK> <UNK> participate tournament flagged immigration dubai airport authorities sent back pakistan asif arrested dubai airport carrying <UNK>\n",
            "실제 요약 : pakistani <UNK> <UNK> <UNK> <UNK> from dubai\n",
            "추출 요약 : veteran pakistani fast bowler mohammad asif deported dubai airport recently failing proper\n",
            "\n",
            "\n",
            "원문 : indian pacer bhuvneshwar kumar recently shared picture instagram dinner date <UNK> <UNK> partner added would reveal full picture soon per reports bhuvneshwar date telugu film actress model <UNK> sarkar people spotted getting red car cricketer\n",
            "실제 요약 : <UNK> kumar shares <UNK> picture from <UNK>\n",
            "추출 요약 : indian pacer bhuvneshwar kumar recently shared picture instagram dinner date partner added\n",
            "\n",
            "\n",
            "원문 : <UNK> motor shut <UNK> plant japan monday found wannacry ransomware hit computer network plant produces around vehicles day resumed production tuesday wannacry ransomware <UNK> windows <UNK> <UNK> files computers demanded ransom paid bitcoins\n",
            "실제 요약 : <UNK> ransomware causes <UNK> plant to shut\n",
            "추출 요약 : motor shut plant japan monday found wannacry ransomware hit computer network plant\n",
            "\n",
            "\n",
            "원문 : <UNK> scientist stephen hawking known hawking radiation paper stated black holes <UNK> however effect directly observed far nobel prizes awarded <UNK> verified research british physicist peter <UNK> predicted god particle <UNK> <UNK> received physics nobel <UNK> confirmed\n",
            "실제 요약 : why was <UNK> <UNK> never awarded nobel\n",
            "추출 요약 : scientist stephen hawking known hawking radiation paper stated black holes however effect\n",
            "\n",
            "\n",
            "원문 : london based british museum recently tweeted asian names <UNK> <UNK> using many responding question making information accessible <UNK> range people <UNK> session <UNK> asia <UNK> portal museum apologised criticised twitter users\n",
            "실제 요약 : <UNK> asian names can be <UNK> british\n",
            "추출 요약 : london based british museum recently tweeted asian names using many responding question\n",
            "\n",
            "\n",
            "원문 : national company law appellate tribunal wednesday denied interim relief vikram bakshi plea seeking stay <UNK> franchise agreement mcdonald <UNK> joint venture mcdonald estranged partner bakshi operates mcdonald outlets north east india <UNK> set hear bakshi plea tomorrow\n",
            "실제 요약 : <UNK> denied <UNK> relief in mcdonald <UNK>\n",
            "추출 요약 : national company law appellate tribunal wednesday denied interim relief vikram bakshi plea\n",
            "\n",
            "\n",
            "원문 : indian journalist charged people smuggling allegedly helping eight people enter australia posing fake journalists group posed media contingent coming australia cover commonwealth games authorities said statement year old suspect faces years jail\n",
            "실제 요약 : indian charged with smuggling fake <UNK> in\n",
            "추출 요약 : indian journalist charged people smuggling allegedly helping eight people enter australia posing\n",
            "\n",
            "\n",
            "원문 : many newspapers <UNK> countries published prime minister narendra modi republic day opinion editorial languages external affairs ministry tweeted friday article titled shared values common <UNK> highlighted importance india ties <UNK> countries common vision future pm modi wrote piece\n",
            "실제 요약 : <UNK> in <UNK> countries <UNK> pm modi\n",
            "추출 요약 : many newspapers countries published prime minister narendra modi republic day opinion editorial\n",
            "\n",
            "\n",
            "원문 : delhi government planning hire special <UNK> open resource centres hire <UNK> ensure education children different needs sanctioned notified posts special <UNK> government run schools posts already filled remaining vacant posts merit <UNK> prepared official said\n",
            "실제 요약 : delhi government to <UNK> over special <UNK>\n",
            "추출 요약 : delhi government planning hire special open resource centres hire ensure education children\n",
            "\n",
            "\n",
            "원문 : second time year air pollution recorded mumbai sunday higher delhi official data revealed mumbai recorded air quality index delhi recorded day evening mumbai expect current pollution levels continue till tuesday authorities said\n",
            "실제 요약 : mumbai air <UNK> <UNK> than delhi on\n",
            "추출 요약 : second time year air pollution recorded mumbai sunday higher delhi official data\n",
            "\n",
            "\n",
            "원문 : infosys board termed past differences co founder narayana murthy unfortunate board wishes express intention cause murthy affected person personal distress <UNK> stating point view added earlier infosys said murthy continuous assault primary reason behind vishal sikka exit\n",
            "실제 요약 : never <UNK> to cause murthy personal <UNK>\n",
            "추출 요약 : infosys board termed past differences co founder narayana murthy unfortunate board wishes\n",
            "\n",
            "\n",
            "원문 : actress <UNK> haasan said finds right guy <UNK> children marriage added would mind media people think notably <UNK> haasan also born <UNK> parents <UNK> kamal haasan\n",
            "실제 요약 : won <UNK> having children before marriage <UNK>\n",
            "추출 요약 : actress haasan said finds right guy children marriage added would mind media\n",
            "\n",
            "\n",
            "원문 : <UNK> samaj party wednesday expelled senior leader prominent muslim face <UNK> siddiqui son <UNK> siddiqui party carrying anti party activities bsp general secretary <UNK> chandra mishra claimed siddiqui slaughterhouses benami properties name also took money assembly polls resulted party defeat\n",
            "실제 요약 : <UNK> expels <UNK> <UNK> for anti party\n",
            "추출 요약 : samaj party wednesday expelled senior leader prominent muslim face siddiqui son siddiqui\n",
            "\n",
            "\n",
            "원문 : mohammad kaif <UNK> scored marks karnataka board exams class become state <UNK> sent paper evaluation got earlier joint <UNK> <UNK> scored full marks subjects except science confident answers sent evaluation\n",
            "실제 요약 : karnataka boy with scores after <UNK>\n",
            "추출 요약 : mohammad kaif scored marks karnataka board exams class become state sent paper\n",
            "\n",
            "\n",
            "원문 : supreme court denied <UNK> bail plea wednesday police detained <UNK> <UNK> prime accused bhima koregaon violence facing charges inciting violence attempt murder <UNK> dalits violence triggered <UNK> others reportedly carrying saffron flags allegedly pelted stones dalits gathered mark event\n",
            "실제 요약 : police <UNK> prime accused in <UNK> <UNK>\n",
            "추출 요약 : supreme court denied bail plea wednesday police detained prime accused bhima koregaon\n",
            "\n",
            "\n",
            "원문 : shares tata motors wednesday plunged much global ratings <UNK> credit rating automaker british arm <UNK> land rover rating <UNK> citing weak profitability <UNK> november moody changed automaker rating <UNK> negative stable citing expectations <UNK> weak operating performance\n",
            "실제 요약 : tata <UNK> shares <UNK> after <UNK> <UNK>\n",
            "추출 요약 : shares tata motors wednesday plunged much global ratings credit rating automaker british\n",
            "\n",
            "\n",
            "원문 : us russia research collaboration harvard created world advanced quantum computer quantum bits <UNK> fundamental unit information quantum computer classical bit store data state whereas <UNK> store simultaneously scientists believe <UNK> quantum machine <UNK> world powerful computer\n",
            "실제 요약 : harvard scientists create most advanced <UNK> computer\n",
            "추출 요약 : us russia research collaboration harvard created world advanced quantum computer quantum bits\n",
            "\n",
            "\n",
            "원문 : russian <UNK> maker <UNK> created iphone tesla model solar charging panel phone comes attached case <UNK> made earth humans inspired elon musk sending tesla <UNK> car space priced lakh gb <UNK> first limited edition phones would reportedly sent musk\n",
            "실제 요약 : firm makes lakh iphone tesla with solar\n",
            "추출 요약 : russian maker created iphone tesla model solar charging panel phone comes attached\n",
            "\n",
            "\n",
            "원문 : rajput organisation karni sena backed <UNK> brahmin mahasabha protest kangana ranaut manikarnika queen jhansi <UNK> brahmin ka <UNK> <UNK> rajput <UNK> <UNK> <UNK> <UNK> rajput ka <UNK> <UNK> brahmin <UNK> <UNK> <UNK> <UNK> said karni sena <UNK> <UNK> singh <UNK> <UNK> brahmin mahasabha earlier signed petition blood padmaavat\n",
            "실제 요약 : <UNK> sena backs <UNK> group protest against\n",
            "추출 요약 : rajput organisation karni sena backed brahmin mahasabha protest kangana ranaut manikarnika queen\n",
            "\n",
            "\n",
            "원문 : banking giant <UNK> appointed indian ceo years india operations naming jayant <UNK> role <UNK> start new role december taking position <UNK> <UNK> <UNK> <UNK> since currently serving head strategy planning asia pacific\n",
            "실제 요약 : <UNK> india gets an indian ceo after\n",
            "추출 요약 : banking giant appointed indian ceo years india operations naming jayant role start\n",
            "\n",
            "\n",
            "원문 : sebi chairman ajay <UNK> said markets regulator keeping close tab share price movement infosys comes infosys shares plunged nearly friday <UNK> crore market valuation vishal sikka resigned ceo shares fell monday despite crore buyback announcement company\n",
            "실제 요약 : <UNK> watch on infosys share price <UNK>\n",
            "추출 요약 : sebi chairman ajay said markets regulator keeping close tab share price movement\n",
            "\n",
            "\n",
            "원문 : nasa captured image trillion tonne <UNK> measuring <UNK> km nearly four times size london recently separated antarctica <UNK> ice <UNK> image taken dark nasa <UNK> satellite shows <UNK> breaking several smaller pieces <UNK> break july one biggest ever recorded\n",
            "실제 요약 : trillion <UNK> <UNK> <UNK> <UNK> <UNK> in\n",
            "추출 요약 : nasa captured image trillion tonne measuring km nearly four times size london\n",
            "\n",
            "\n",
            "원문 : according police least three maoists arrested search operation chhattisgarh insurgency hit sukma <UNK> attack left crpf jawans dead last week reportedly trio involved attack police party <UNK> <UNK> villages region march year\n",
            "실제 요약 : three <UNK> arrested during search operation in\n",
            "추출 요약 : according police least three maoists arrested search operation chhattisgarh insurgency hit sukma\n",
            "\n",
            "\n"
          ]
        }
      ]
    },
    {
      "cell_type": "markdown",
      "source": [
        "# 결과 분석"
      ],
      "metadata": {
        "id": "pEFeO6nyNv6T"
      }
    },
    {
      "cell_type": "markdown",
      "source": [
        "| 평가 항목         | Seq2Seq 결과                                                                  | Summa.summarize 결과                      | 비교                        |\n",
        "| ------------- | --------------------------------------------------------------------------- | --------------------------------------- | ------------------------- |\n",
        "| **문법 완성도**    | 대부분 비문 형태로, 반복적인 단어(“his”, “ban”, “amazon” 등)가 등장하 언어모델 학습 부족으로 문장 구조가 붕괴됨 | 문장 추출 기반이라 문법적 구조는 원문 유지 → 완성도 높음       | **Extractive 우세**       |\n",
        "| **핵심 단어 포함도** | 원문과 요약문 간 의미적 일치가 거의 없음. 주제 키워드 누락                                          | 원문 문장에서 직접 문장 추출 → 주요 인물, 사건명, 조직명 등 보존 |  **Extractive 우세**       |\n",
        "| **내용 일관성**    | 모델이 대부분 무의미한 문장 생성 → 문맥 파악 실패                                               | 실제 사건 요약 문맥 보존                          | **Extractive 우세**       |\n",
        "| **요약 다양성**    | 생성형 모델이라 잠재적으로 다양성 확보 가능하나 현재 학습 불충분                                        | 문장 그대로 발췌 → 다양성 낮음                      | **Abstractive 잠재력 존재** |\n"
      ],
      "metadata": {
        "id": "aanPgHjZNE9y"
      }
    },
    {
      "cell_type": "markdown",
      "source": [
        "# 결론"
      ],
      "metadata": {
        "id": "ZJr3zz_jNxu5"
      }
    },
    {
      "cell_type": "markdown",
      "source": [
        "- 현재 학습된 Seq2Seq 모델은 학습 데이터 부족·토크나이저 문제(<UNK> 빈도)로 인해\n",
        "문법적 붕괴와 의미 손실이 심각함.\n",
        "\n",
        "- 반면 Summa(추출 요약)은 단순하지만 문법적으로 안정적이고, 핵심 단어 보존율이 높음."
      ],
      "metadata": {
        "id": "hfXaNrF0Nzn8"
      }
    },
    {
      "cell_type": "code",
      "source": [],
      "metadata": {
        "id": "iaGZSZ5_dsIw"
      },
      "execution_count": null,
      "outputs": []
    },
    {
      "cell_type": "code",
      "source": [],
      "metadata": {
        "id": "FMzu61D0dsMN"
      },
      "execution_count": null,
      "outputs": []
    }
  ]
}